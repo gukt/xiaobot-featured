{
 "cells": [
  {
   "cell_type": "code",
   "execution_count": 110,
   "id": "initial_id",
   "metadata": {
    "collapsed": true,
    "ExecuteTime": {
     "end_time": "2024-09-17T12:45:39.379801Z",
     "start_time": "2024-09-17T12:45:39.375609Z"
    }
   },
   "outputs": [],
   "source": [
    "import os\n",
    "from datetime import datetime\n",
    "from selenium import webdriver\n",
    "from selenium.webdriver.chrome.service import Service\n",
    "from selenium.webdriver.chrome.options import Options\n",
    "from selenium.webdriver.common.by import By\n",
    "from selenium.webdriver.support.ui import WebDriverWait\n",
    "from selenium.webdriver.support import expected_conditions as EC\n",
    "from webdriver_manager.chrome import ChromeDriverManager\n",
    "from notion_client import Client"
   ]
  },
  {
   "cell_type": "code",
   "outputs": [],
   "source": [
    "NOTION_TOKEN = \"secret_XKLyoisWT09GFbcYNmDfvYNkpcFIfgtrXQzvulVSfnA\"\n",
    "NOTION_DATABASE_ID = \"1043b7f82e0b806e9e31dd541a1ed332\"\n",
    "\n",
    "notion = Client(auth=NOTION_TOKEN)"
   ],
   "metadata": {
    "collapsed": false,
    "ExecuteTime": {
     "end_time": "2024-09-17T12:45:39.421155Z",
     "start_time": "2024-09-17T12:45:39.381765Z"
    }
   },
   "id": "4ded26afbcd04944",
   "execution_count": 111
  },
  {
   "cell_type": "code",
   "outputs": [],
   "source": [
    "def setup_driver():\n",
    "    chrome_options = Options()\n",
    "    chrome_options.add_argument(\"--headless\")  # Run in headless mode\n",
    "    service = Service(ChromeDriverManager().install())\n",
    "    return webdriver.Chrome(service=service, options=chrome_options)"
   ],
   "metadata": {
    "collapsed": false,
    "ExecuteTime": {
     "end_time": "2024-09-17T12:45:39.425135Z",
     "start_time": "2024-09-17T12:45:39.422822Z"
    }
   },
   "id": "37a65e6c3872c7b3",
   "execution_count": 112
  },
  {
   "cell_type": "code",
   "outputs": [],
   "source": [
    "url = f\"https://xiaobot.net/p/shengcaiyoushu\"\n",
    "driver = setup_driver()\n",
    "driver.get(url)"
   ],
   "metadata": {
    "collapsed": false,
    "ExecuteTime": {
     "end_time": "2024-09-17T12:45:53.588080Z",
     "start_time": "2024-09-17T12:45:39.426006Z"
    }
   },
   "id": "46e76272727f72da",
   "execution_count": 113
  },
  {
   "cell_type": "code",
   "outputs": [
    {
     "data": {
      "text/plain": "'生财有术项目精选'"
     },
     "execution_count": 114,
     "metadata": {},
     "output_type": "execute_result"
    }
   ],
   "source": [
    "driver.title"
   ],
   "metadata": {
    "collapsed": false,
    "ExecuteTime": {
     "end_time": "2024-09-17T12:45:53.605105Z",
     "start_time": "2024-09-17T12:45:53.590483Z"
    }
   },
   "id": "22d5b3d1f1d57a8e",
   "execution_count": 114
  },
  {
   "cell_type": "code",
   "outputs": [],
   "source": [
    "paper_info_elem = driver.find_element(By.CSS_SELECTOR, \".paper-info\")"
   ],
   "metadata": {
    "collapsed": false,
    "ExecuteTime": {
     "end_time": "2024-09-17T12:45:53.638472Z",
     "start_time": "2024-09-17T12:45:53.605922Z"
    }
   },
   "id": "53b9b6e2c690139c",
   "execution_count": 115
  },
  {
   "cell_type": "code",
   "outputs": [
    {
     "data": {
      "text/plain": "'28654'"
     },
     "execution_count": 116,
     "metadata": {},
     "output_type": "execute_result"
    }
   ],
   "source": [
    "reader_num_elem = paper_info_elem.find_element(By.CSS_SELECTOR, \".stats div.stat:nth-child(1) .num\")\n",
    "reader_num_elem.text"
   ],
   "metadata": {
    "collapsed": false,
    "ExecuteTime": {
     "end_time": "2024-09-17T12:45:53.758464Z",
     "start_time": "2024-09-17T12:45:53.639578Z"
    }
   },
   "id": "aded9ae47af5ca75",
   "execution_count": 116
  },
  {
   "cell_type": "code",
   "outputs": [
    {
     "data": {
      "text/plain": "'71'"
     },
     "execution_count": 117,
     "metadata": {},
     "output_type": "execute_result"
    }
   ],
   "source": [
    "article_num_elem = paper_info_elem.find_element(By.CSS_SELECTOR, \".stats div.stat:nth-child(2) .num\")\n",
    "article_num_elem.text"
   ],
   "metadata": {
    "collapsed": false,
    "ExecuteTime": {
     "end_time": "2024-09-17T12:45:53.869488Z",
     "start_time": "2024-09-17T12:45:53.759439Z"
    }
   },
   "id": "2b64db2ba147d92e",
   "execution_count": 117
  },
  {
   "cell_type": "code",
   "outputs": [
    {
     "data": {
      "text/plain": "'66个赚到钱的人，分享他们已经跑通的项目。\\n\\n【重要】添加服务官鱼丸微信(yuwan831)，领取配套的10张项目步骤拆解图；\\n\\n【阅读建议】先看拆解图，定位自己擅长的领域，便于找到更适合自己的项目。\\n\\n更多权益和规则，请看置顶帖。'"
     },
     "execution_count": 118,
     "metadata": {},
     "output_type": "execute_result"
    }
   ],
   "source": [
    "description_elem = paper_info_elem.find_element(By.CSS_SELECTOR, \"p.intro\")\n",
    "description_elem.text"
   ],
   "metadata": {
    "collapsed": false,
    "ExecuteTime": {
     "end_time": "2024-09-17T12:45:53.935517Z",
     "start_time": "2024-09-17T12:45:53.870593Z"
    }
   },
   "id": "a68c898b5bf5055a",
   "execution_count": 118
  },
  {
   "cell_type": "code",
   "outputs": [
    {
     "data": {
      "text/plain": "'介绍\\n内容\\n免费预览'"
     },
     "execution_count": 119,
     "metadata": {},
     "output_type": "execute_result"
    }
   ],
   "source": [
    "category_elem = driver.find_element(By.CSS_SELECTOR, \".category\")\n",
    "category_elem.text"
   ],
   "metadata": {
    "collapsed": false,
    "ExecuteTime": {
     "end_time": "2024-09-17T12:45:53.988170Z",
     "start_time": "2024-09-17T12:45:53.936335Z"
    }
   },
   "id": "dd6b52d942ddcc23",
   "execution_count": 119
  },
  {
   "cell_type": "code",
   "outputs": [],
   "source": [
    "# 如果找不到 tags, 就点击 category_elem 下的第二个元素\n",
    "if not driver.find_elements(By.CSS_SELECTOR, \"span.tag\"):\n",
    "    category_elem.find_elements(By.CSS_SELECTOR, \"div\")[1].click()"
   ],
   "metadata": {
    "collapsed": false,
    "ExecuteTime": {
     "end_time": "2024-09-17T12:45:58.908119Z",
     "start_time": "2024-09-17T12:45:53.990796Z"
    }
   },
   "id": "79fe045b6b34bbec",
   "execution_count": 120
  },
  {
   "cell_type": "code",
   "outputs": [],
   "source": [
    "# 由于 div.tags 元素的父级定义了 overflow: hidden; 这将会导致取到的 tags 列表虽然是全的，但后面有部分 tag 的内容是空的\n",
    "# 将 div.tags 元素上设置 overflow 设置为 auto 可以解决这个问题\n",
    "driver.execute_script(\"document.querySelector('.tags').style.overflow = 'auto';\")"
   ],
   "metadata": {
    "collapsed": false,
    "ExecuteTime": {
     "end_time": "2024-09-17T12:45:59.005371Z",
     "start_time": "2024-09-17T12:45:58.909040Z"
    }
   },
   "id": "1a49e7df751afce",
   "execution_count": 121
  },
  {
   "cell_type": "code",
   "outputs": [
    {
     "name": "stdout",
     "output_type": "stream",
     "text": [
      "找到 11 个 tags\n",
      "0 全部\n",
      "1 #电商带货 13\n",
      "2 #技能服务 10\n",
      "3 #整理资料 8\n",
      "4 #进阶玩法 7\n",
      "5 #流量变现 7\n",
      "6 #本地服务 7\n",
      "7 #线下实体 4\n",
      "8 #社群团购 4\n",
      "9 #中介服务 4\n",
      "10 #工具产品 2\n"
     ]
    },
    {
     "data": {
      "text/plain": "['电商带货',\n '技能服务',\n '整理资料',\n '进阶玩法',\n '流量变现',\n '本地服务',\n '线下实体',\n '社群团购',\n '中介服务',\n '工具产品']"
     },
     "execution_count": 123,
     "metadata": {},
     "output_type": "execute_result"
    }
   ],
   "source": [
    "tag_elems = driver.find_elements(By.CSS_SELECTOR, \"span.tag\")\n",
    "# 打印找到 n 个 tags\n",
    "print('找到', len(tag_elems), '个 tags')\n",
    "\n",
    "# 遍历并打印 tags, 并打印出序号\n",
    "for i, tag_elem in enumerate(tag_elems):\n",
    "    print(i, tag_elem.text)\n",
    "    \n",
    "# 遍历 tags，去掉第一个标签（全部），并将前缀 # 字符去掉，以及后面的空格与数字。\n",
    "tags = [tag.text.replace(\"#\", \"\").split(\" \")[0] for tag in tag_elems[1:]]\n",
    "tags"
   ],
   "metadata": {
    "collapsed": false,
    "ExecuteTime": {
     "end_time": "2024-09-17T12:49:34.587914Z",
     "start_time": "2024-09-17T12:49:34.203637Z"
    }
   },
   "id": "aebb698deb1a94fc",
   "execution_count": 123
  },
  {
   "cell_type": "code",
   "outputs": [
    {
     "data": {
      "text/plain": "'生财有术'"
     },
     "execution_count": 99,
     "metadata": {},
     "output_type": "execute_result"
    }
   ],
   "source": [
    "# 获取主理人信息\n",
    "host_elem = driver.find_element(By.CSS_SELECTOR, \".post .name\")\n",
    "host_elem.text"
   ],
   "metadata": {
    "collapsed": false,
    "ExecuteTime": {
     "end_time": "2024-09-17T12:40:43.494754Z",
     "start_time": "2024-09-17T12:40:43.430786Z"
    }
   },
   "id": "3927943ac5b4f08f",
   "execution_count": 99
  },
  {
   "cell_type": "code",
   "outputs": [
    {
     "data": {
      "text/plain": "'50'"
     },
     "execution_count": 66,
     "metadata": {},
     "output_type": "execute_result"
    }
   ],
   "source": [
    "# 要想获取到佣金比例数据，需要点击 div.share-paper 元素，点击后会在底部弹出一个模态对话框（div.el-overlay），里面有推广佣金比例信信息，\n",
    "share_paper_elem = driver.find_element(By.CSS_SELECTOR, \".share-paper\")\n",
    "# 先判断是否有 .el-overlay 这个元素，如果有就不点击；反之则点击。\n",
    "if not driver.find_elements(By.CSS_SELECTOR, \".el-overlay\"):\n",
    "    share_paper_elem.click()\n",
    "\n",
    "# 获取推广佣金比例信息\n",
    "commission_rate_elem = driver.find_element(By.CSS_SELECTOR, \".el-overlay .referText p span.text-theme\")\n",
    "# 去掉百分号\n",
    "commission_rate = commission_rate_elem.text.replace(\"%\", \"\")\n",
    "commission_rate"
   ],
   "metadata": {
    "collapsed": false,
    "ExecuteTime": {
     "end_time": "2024-09-17T11:21:17.379364Z",
     "start_time": "2024-09-17T11:21:17.328349Z"
    }
   },
   "id": "1cb8672bb8a8611f",
   "execution_count": 66
  },
  {
   "cell_type": "code",
   "outputs": [
    {
     "name": "stdout",
     "output_type": "stream",
     "text": [
      "生财有术项目精选\n"
     ]
    },
    {
     "data": {
      "text/plain": "'生财有术项目精选'"
     },
     "execution_count": 72,
     "metadata": {},
     "output_type": "execute_result"
    }
   ],
   "source": [
    "# 获取文章标题\n",
    "title_elem = driver.find_element(By.CSS_SELECTOR, \".paper_title h1\")\n",
    "print(title_elem.text)\n",
    "\n",
    "# 也可以直接通过页面 title 直接获取专栏标题，更简单。\n",
    "driver.title"
   ],
   "metadata": {
    "collapsed": false,
    "ExecuteTime": {
     "end_time": "2024-09-17T11:22:39.095060Z",
     "start_time": "2024-09-17T11:22:39.072024Z"
    }
   },
   "id": "54e31d4918a89838",
   "execution_count": 72
  },
  {
   "cell_type": "code",
   "outputs": [
    {
     "data": {
      "text/plain": "'https://static.xiaobot.net/user-avatar/2022-11-21/11873/d577f4b18114480dc6d867f753a15e4b.png'"
     },
     "execution_count": 74,
     "metadata": {},
     "output_type": "execute_result"
    }
   ],
   "source": [
    "# 获得 icon 链接\n",
    "icon_elem = driver.find_element(By.CSS_SELECTOR, \"img.avatar\")\n",
    "icon_elem.get_attribute(\"src\")"
   ],
   "metadata": {
    "collapsed": false,
    "ExecuteTime": {
     "end_time": "2024-09-17T11:24:09.735903Z",
     "start_time": "2024-09-17T11:24:09.706670Z"
    }
   },
   "id": "bf97030211c4cfa4",
   "execution_count": 74
  }
 ],
 "metadata": {
  "kernelspec": {
   "display_name": "Python 3",
   "language": "python",
   "name": "python3"
  },
  "language_info": {
   "codemirror_mode": {
    "name": "ipython",
    "version": 2
   },
   "file_extension": ".py",
   "mimetype": "text/x-python",
   "name": "python",
   "nbconvert_exporter": "python",
   "pygments_lexer": "ipython2",
   "version": "2.7.6"
  }
 },
 "nbformat": 4,
 "nbformat_minor": 5
}
