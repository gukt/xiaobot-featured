{
 "cells": [
  {
   "cell_type": "code",
   "execution_count": 110,
   "id": "initial_id",
   "metadata": {
    "collapsed": true,
    "ExecuteTime": {
     "end_time": "2024-09-17T12:45:39.379801Z",
     "start_time": "2024-09-17T12:45:39.375609Z"
    }
   },
   "outputs": [],
   "source": [
    "import os\n",
    "from datetime import datetime\n",
    "from selenium import webdriver\n",
    "from selenium.webdriver.chrome.service import Service\n",
    "from selenium.webdriver.chrome.options import Options\n",
    "from selenium.webdriver.common.by import By\n",
    "from selenium.webdriver.support.ui import WebDriverWait\n",
    "from selenium.webdriver.support import expected_conditions as EC\n",
    "from webdriver_manager.chrome import ChromeDriverManager\n",
    "from notion_client import Client"
   ]
  },
  {
   "cell_type": "code",
   "outputs": [],
   "source": [
    "NOTION_TOKEN = \"secret_XKLyoisWT09GFbcYNmDfvYNkpcFIfgtrXQzvulVSfnA\"\n",
    "NOTION_DATABASE_ID = \"1043b7f8-2e0b-806e-9e31-dd541a1ed332\"\n",
    "\n",
    "notion = Client(auth=NOTION_TOKEN)"
   ],
   "metadata": {
    "collapsed": false,
    "ExecuteTime": {
     "end_time": "2024-09-17T14:45:10.844338Z",
     "start_time": "2024-09-17T14:45:10.798947Z"
    }
   },
   "id": "4ded26afbcd04944",
   "execution_count": 130
  },
  {
   "cell_type": "code",
   "outputs": [
    {
     "data": {
      "text/plain": "{'object': 'list',\n 'results': [{'object': 'page',\n   'id': '1043b7f8-2e0b-8118-bbd8-ff0491633c0b',\n   'created_time': '2024-09-17T14:27:00.000Z',\n   'last_edited_time': '2024-09-17T14:27:00.000Z',\n   'created_by': {'object': 'user',\n    'id': '20a4298c-ff5d-4b13-9c5c-5d1b1e2a9dce'},\n   'last_edited_by': {'object': 'user',\n    'id': '20a4298c-ff5d-4b13-9c5c-5d1b1e2a9dce'},\n   'cover': None,\n   'icon': None,\n   'parent': {'type': 'database_id',\n    'database_id': '1043b7f8-2e0b-806e-9e31-dd541a1ed332'},\n   'archived': False,\n   'in_trash': False,\n   'properties': {'专栏 ID': {'id': '%3BU%7D%3D',\n     'type': 'rich_text',\n     'rich_text': [{'type': 'text',\n       'text': {'content': 'xhsal', 'link': None},\n       'annotations': {'bold': False,\n        'italic': False,\n        'strikethrough': False,\n        'underline': False,\n        'code': False,\n        'color': 'default'},\n       'plain_text': 'xhsal',\n       'href': None}]},\n    '介绍': {'id': '%3EzVp',\n     'type': 'rich_text',\n     'rich_text': [{'type': 'text',\n       'text': {'content': '小红书带货玩家必备手册，站在巨人的肩膀上卖货赚钱。\\n\\n本小册手动精选 200 个小红书电商带货可复制案例，涉及商品累计GMV超5亿，可以帮你快速获得小红书带货灵感。\\n\\n限时 59 元买断（永久有效）\\n每满 100 人订阅，涨价10元，早买早赚\\n\\n订阅后，截图支付记录，加微信 9908134 有专属惊喜\\n\\n—\\n\\n更多权益和规则请看置顶帖，每天更新10条案例。',\n        'link': None},\n       'annotations': {'bold': False,\n        'italic': False,\n        'strikethrough': False,\n        'underline': False,\n        'code': False,\n        'color': 'default'},\n       'plain_text': '小红书带货玩家必备手册，站在巨人的肩膀上卖货赚钱。\\n\\n本小册手动精选 200 个小红书电商带货可复制案例，涉及商品累计GMV超5亿，可以帮你快速获得小红书带货灵感。\\n\\n限时 59 元买断（永久有效）\\n每满 100 人订阅，涨价10元，早买早赚\\n\\n订阅后，截图支付记录，加微信 9908134 有专属惊喜\\n\\n—\\n\\n更多权益和规则请看置顶帖，每天更新10条案例。',\n       'href': None}]},\n    '图标': {'id': 'MLNP',\n     'type': 'url',\n     'url': 'https://static.xiaobot.net/user-avatar/2023-05-06/17710/e9db73b4775547a707ec6870290c2fbc.jpeg'},\n    'URL': {'id': 'S%3DfK',\n     'type': 'url',\n     'url': 'https://xiaobot.net/p/xhsal'},\n    'Files & media': {'id': 'VmIc', 'type': 'files', 'files': []},\n    '是否赞助商': {'id': '%5DuFH', 'type': 'select', 'select': None},\n    '主理人': {'id': 'f%3DCs',\n     'type': 'rich_text',\n     'rich_text': [{'type': 'text',\n       'text': {'content': '徐宿', 'link': None},\n       'annotations': {'bold': False,\n        'italic': False,\n        'strikethrough': False,\n        'underline': False,\n        'code': False,\n        'color': 'default'},\n       'plain_text': '徐宿',\n       'href': None}]},\n    '佣金比例': {'id': 'mit%5E', 'type': 'number', 'number': None},\n    '文章数': {'id': 't%3CfL', 'type': 'number', 'number': 202},\n    '内容标签': {'id': 'vypV',\n     'type': 'multi_select',\n     'multi_select': [{'id': '25087cf6-9cf7-4d3b-ae48-af7aab42f663',\n       'name': '服装赛道',\n       'color': 'pink'},\n      {'id': '36b5709c-ee98-4e91-9375-9002c0cd38fa',\n       'name': '美食赛道',\n       'color': 'yellow'},\n      {'id': 'debbd57d-9e66-41cf-a1d0-f05f2370120e',\n       'name': '家居赛道',\n       'color': 'green'},\n      {'id': 'aaccfad4-cb84-46d4-9e67-6bca47d1d3f1',\n       'name': '时尚赛道',\n       'color': 'pink'},\n      {'id': '34c35ebf-79b8-468e-9f71-1b18f7ade73f',\n       'name': '教育赛道',\n       'color': 'default'},\n      {'id': '4c4f96bf-ca2a-4129-ae19-a9262e1e5e01',\n       'name': '饰品赛道',\n       'color': 'purple'},\n      {'id': '8cf7bac9-04aa-4220-b5f0-9ebe5e84a0e8',\n       'name': '兴趣赛道',\n       'color': 'gray'},\n      {'id': '6182a032-40c9-4db6-807e-fbc66ac87f7d',\n       'name': '礼物赛道',\n       'color': 'default'},\n      {'id': '816de193-ee1c-4ab9-a814-78996cf6f07a',\n       'name': '美妆赛道',\n       'color': 'pink'},\n      {'id': 'bf14c2da-b0ff-4120-ae8e-f25f6b4e359d',\n       'name': '护肤赛道',\n       'color': 'pink'},\n      {'id': '5e272a18-047c-446b-a741-56a9b708f0f7',\n       'name': '医疗赛道',\n       'color': 'red'},\n      {'id': '92578745-8c82-4216-8c90-7c0f2ea7f3ac',\n       'name': '情感赛道',\n       'color': 'purple'},\n      {'id': '4082c7c9-6c37-46a6-a1fc-226a19175b30',\n       'name': '植物赛道',\n       'color': 'orange'},\n      {'id': '27d22101-7280-4f9b-9af3-a68eef196d35',\n       'name': '水果赛道',\n       'color': 'purple'},\n      {'id': '656afe9b-0871-4d20-b407-a898493c9cbf',\n       'name': '数码赛道',\n       'color': 'pink'},\n      {'id': 'b402dd16-e04c-4ffa-9dce-22b70d7c4044',\n       'name': '饮品赛道',\n       'color': 'pink'},\n      {'id': 'cf2fd9ac-e846-42be-bf12-797e2ef81b43',\n       'name': '日用赛道',\n       'color': 'gray'},\n      {'id': '3359cd57-a32a-4010-9a12-a5e4a68b690e',\n       'name': '箱包赛道',\n       'color': 'orange'},\n      {'id': 'f51153ca-7e9b-4bc8-8a27-5a30e2d9feaf',\n       'name': '宠物赛道',\n       'color': 'orange'},\n      {'id': '92cf2987-d50f-47ae-92e3-060061074608',\n       'name': '母婴赛道',\n       'color': 'default'},\n      {'id': '468b8d63-d29a-418b-8bee-89513d34b1ad',\n       'name': '洗护赛道',\n       'color': 'orange'},\n      {'id': '16f2d4eb-509a-433c-b686-426b51304a67',\n       'name': '学习文具',\n       'color': 'purple'}]},\n    '读者数': {'id': 'x%60jQ', 'type': 'number', 'number': 1378},\n    '名称': {'id': 'title',\n     'type': 'title',\n     'title': [{'type': 'text',\n       'text': {'content': '小红书带货案例库', 'link': None},\n       'annotations': {'bold': False,\n        'italic': False,\n        'strikethrough': False,\n        'underline': False,\n        'code': False,\n        'color': 'default'},\n       'plain_text': '小红书带货案例库',\n       'href': None}]}},\n   'url': 'https://www.notion.so/1043b7f82e0b8118bbd8ff0491633c0b',\n   'public_url': None},\n  {'object': 'page',\n   'id': '1043b7f8-2e0b-8134-a111-ca00993ad385',\n   'created_time': '2024-09-17T14:26:00.000Z',\n   'last_edited_time': '2024-09-17T14:26:00.000Z',\n   'created_by': {'object': 'user',\n    'id': '20a4298c-ff5d-4b13-9c5c-5d1b1e2a9dce'},\n   'last_edited_by': {'object': 'user',\n    'id': '20a4298c-ff5d-4b13-9c5c-5d1b1e2a9dce'},\n   'cover': None,\n   'icon': None,\n   'parent': {'type': 'database_id',\n    'database_id': '1043b7f8-2e0b-806e-9e31-dd541a1ed332'},\n   'archived': False,\n   'in_trash': False,\n   'properties': {'专栏 ID': {'id': '%3BU%7D%3D',\n     'type': 'rich_text',\n     'rich_text': [{'type': 'text',\n       'text': {'content': 'xiaohongshuku', 'link': None},\n       'annotations': {'bold': False,\n        'italic': False,\n        'strikethrough': False,\n        'underline': False,\n        'code': False,\n        'color': 'default'},\n       'plain_text': 'xiaohongshuku',\n       'href': None}]},\n    '介绍': {'id': '%3EzVp',\n     'type': 'rich_text',\n     'rich_text': [{'type': 'text',\n       'text': {'content': '🌟这里是小报童获知产品专家背书最多的小红书主题专栏，连载至今，口碑极佳。\\n📕海量案例，各大品牌方和小红书产品经理亲自坐镇的高质量陪伴社群，让你在小红书快速拿到结果。订阅后务必加作者微信备注「小报童」加群，微信号订阅后在第一章可见。\\n\\n🌟做号，是这个时代成本最低的创业。\\n📕小红书，是今年，最适合开辟的平台。\\n\\n如果你的本职工作就是内容、流量、表达，那么来小红书吧，这里有远超其他平台的用户质量和付费能力；\\n如果你有另外的行当，那更应该做小红书——你的专业能力，找对方法运营，在小红书，如入无人之境。\\n\\n🪐这里是以内容平台产品经理和7年副业博主的双重视角讲给你听的整体逻辑和实战经验——小红书运营手册全本。\\n\\n【订阅后你可以】\\n1️⃣获得做小红书的核心技能｜工作方法\\n2️⃣进入小红书博主新星群，日常打卡交流\\n3️⃣小红书内部运营学习资料，群内不定期掉落\\n\\n一次买断，终身阅读。\\n让账号成为你的资产，用好小红书这个红利工具。\\n欢迎你加入学习。💫\\n\\n作者王梦珂，全网ID：@后厂女工小王。小红书官方电商学习中心讲师，多家互联网大厂、新消费公司、文旅、教育行业小红书咨询顾问，小红书认证培训讲师，合作平台新榜、得到、虎嗅等，正在经营一家小而美的新媒体运营服务公司。',\n        'link': None},\n       'annotations': {'bold': False,\n        'italic': False,\n        'strikethrough': False,\n        'underline': False,\n        'code': False,\n        'color': 'default'},\n       'plain_text': '🌟这里是小报童获知产品专家背书最多的小红书主题专栏，连载至今，口碑极佳。\\n📕海量案例，各大品牌方和小红书产品经理亲自坐镇的高质量陪伴社群，让你在小红书快速拿到结果。订阅后务必加作者微信备注「小报童」加群，微信号订阅后在第一章可见。\\n\\n🌟做号，是这个时代成本最低的创业。\\n📕小红书，是今年，最适合开辟的平台。\\n\\n如果你的本职工作就是内容、流量、表达，那么来小红书吧，这里有远超其他平台的用户质量和付费能力；\\n如果你有另外的行当，那更应该做小红书——你的专业能力，找对方法运营，在小红书，如入无人之境。\\n\\n🪐这里是以内容平台产品经理和7年副业博主的双重视角讲给你听的整体逻辑和实战经验——小红书运营手册全本。\\n\\n【订阅后你可以】\\n1️⃣获得做小红书的核心技能｜工作方法\\n2️⃣进入小红书博主新星群，日常打卡交流\\n3️⃣小红书内部运营学习资料，群内不定期掉落\\n\\n一次买断，终身阅读。\\n让账号成为你的资产，用好小红书这个红利工具。\\n欢迎你加入学习。💫\\n\\n作者王梦珂，全网ID：@后厂女工小王。小红书官方电商学习中心讲师，多家互联网大厂、新消费公司、文旅、教育行业小红书咨询顾问，小红书认证培训讲师，合作平台新榜、得到、虎嗅等，正在经营一家小而美的新媒体运营服务公司。',\n       'href': None}]},\n    '图标': {'id': 'MLNP',\n     'type': 'url',\n     'url': 'https://static.xiaobot.net/user-avatar/2023-08-18/24925/46e705ea335e36dbc7fb6180ed7c8f11.jpeg'},\n    'URL': {'id': 'S%3DfK',\n     'type': 'url',\n     'url': 'https://xiaobot.net/p/xiaohongshuku'},\n    'Files & media': {'id': 'VmIc', 'type': 'files', 'files': []},\n    '是否赞助商': {'id': '%5DuFH', 'type': 'select', 'select': None},\n    '主理人': {'id': 'f%3DCs',\n     'type': 'rich_text',\n     'rich_text': [{'type': 'text',\n       'text': {'content': '后厂女工小王', 'link': None},\n       'annotations': {'bold': False,\n        'italic': False,\n        'strikethrough': False,\n        'underline': False,\n        'code': False,\n        'color': 'default'},\n       'plain_text': '后厂女工小王',\n       'href': None}]},\n    '佣金比例': {'id': 'mit%5E', 'type': 'number', 'number': None},\n    '文章数': {'id': 't%3CfL', 'type': 'number', 'number': 34},\n    '内容标签': {'id': 'vypV', 'type': 'multi_select', 'multi_select': []},\n    '读者数': {'id': 'x%60jQ', 'type': 'number', 'number': 2300},\n    '名称': {'id': 'title',\n     'type': 'title',\n     'title': [{'type': 'text',\n       'text': {'content': '小红书运营手册｜全本连载中', 'link': None},\n       'annotations': {'bold': False,\n        'italic': False,\n        'strikethrough': False,\n        'underline': False,\n        'code': False,\n        'color': 'default'},\n       'plain_text': '小红书运营手册｜全本连载中',\n       'href': None}]}},\n   'url': 'https://www.notion.so/1043b7f82e0b8134a111ca00993ad385',\n   'public_url': None},\n  {'object': 'page',\n   'id': 'c5b3e49e-02f8-4afb-9440-8d0939360f44',\n   'created_time': '2024-09-17T14:26:00.000Z',\n   'last_edited_time': '2024-09-17T14:26:00.000Z',\n   'created_by': {'object': 'user',\n    'id': '20a4298c-ff5d-4b13-9c5c-5d1b1e2a9dce'},\n   'last_edited_by': {'object': 'user',\n    'id': '20a4298c-ff5d-4b13-9c5c-5d1b1e2a9dce'},\n   'cover': None,\n   'icon': None,\n   'parent': {'type': 'database_id',\n    'database_id': '1043b7f8-2e0b-806e-9e31-dd541a1ed332'},\n   'archived': False,\n   'in_trash': False,\n   'properties': {'专栏 ID': {'id': '%3BU%7D%3D',\n     'type': 'rich_text',\n     'rich_text': [{'type': 'text',\n       'text': {'content': 'KarlHeinz99', 'link': None},\n       'annotations': {'bold': False,\n        'italic': False,\n        'strikethrough': False,\n        'underline': False,\n        'code': False,\n        'color': 'default'},\n       'plain_text': 'KarlHeinz99',\n       'href': None}]},\n    '介绍': {'id': '%3EzVp',\n     'type': 'rich_text',\n     'rich_text': [{'type': 'text',\n       'text': {'content': '作者卡尔：小红书教练，AI 领域 SCI、EI作者，4万人付费社群AI小红书总教练，21w粉小红书博主商业顾问，6个月通过AI小红书IP变现6位数。\\nv：KarlHeinz99\\n小册暂包含四个专栏：AI 辅助小红书起号、AI辅助小红书创作、AI 小红书变现案例、AI 文字表达优化，一年内计划更新 30 篇以上。\\n\\n原价 299 元，限时 28.8 元买断。',\n        'link': None},\n       'annotations': {'bold': False,\n        'italic': False,\n        'strikethrough': False,\n        'underline': False,\n        'code': False,\n        'color': 'default'},\n       'plain_text': '作者卡尔：小红书教练，AI 领域 SCI、EI作者，4万人付费社群AI小红书总教练，21w粉小红书博主商业顾问，6个月通过AI小红书IP变现6位数。\\nv：KarlHeinz99\\n小册暂包含四个专栏：AI 辅助小红书起号、AI辅助小红书创作、AI 小红书变现案例、AI 文字表达优化，一年内计划更新 30 篇以上。\\n\\n原价 299 元，限时 28.8 元买断。',\n       'href': None}]},\n    '图标': {'id': 'MLNP',\n     'type': 'url',\n     'url': 'https://static.xiaobot.net/user-avatar/2023-10-18/283909/f576d1ebf337b3d74e8c9a2a14d06965.png'},\n    'URL': {'id': 'S%3DfK',\n     'type': 'url',\n     'url': 'https://xiaobot.net/p/KarlHeinz99'},\n    'Files & media': {'id': 'VmIc', 'type': 'files', 'files': []},\n    '是否赞助商': {'id': '%5DuFH', 'type': 'select', 'select': None},\n    '主理人': {'id': 'f%3DCs',\n     'type': 'rich_text',\n     'rich_text': [{'type': 'text',\n       'text': {'content': '卡尔', 'link': None},\n       'annotations': {'bold': False,\n        'italic': False,\n        'strikethrough': False,\n        'underline': False,\n        'code': False,\n        'color': 'default'},\n       'plain_text': '卡尔',\n       'href': None}]},\n    '佣金比例': {'id': 'mit%5E', 'type': 'number', 'number': None},\n    '文章数': {'id': 't%3CfL', 'type': 'number', 'number': 39},\n    '内容标签': {'id': 'vypV',\n     'type': 'multi_select',\n     'multi_select': [{'id': '70bd0c14-059e-433d-9ae9-15f67598e82a',\n       'name': '小红书创作',\n       'color': 'purple'},\n      {'id': '67829cc1-e0c9-433f-844b-b6ef8e9899f8',\n       'name': '小红书起号',\n       'color': 'red'},\n      {'id': 'c480efb1-47fb-4262-adb9-e95f37943363',\n       'name': '小红书引流',\n       'color': 'brown'},\n      {'id': 'd8d45143-ead4-44df-ae2c-0b40f01a82a3',\n       'name': '小红书变现',\n       'color': 'default'},\n      {'id': '9d9e3357-368c-47c1-8ab2-b2329d45b58f',\n       'name': '小红书笔记优化',\n       'color': 'default'}]},\n    '读者数': {'id': 'x%60jQ', 'type': 'number', 'number': 2191},\n    '名称': {'id': 'title',\n     'type': 'title',\n     'title': [{'type': 'text',\n       'text': {'content': 'AI 小红书爆款变现', 'link': None},\n       'annotations': {'bold': False,\n        'italic': False,\n        'strikethrough': False,\n        'underline': False,\n        'code': False,\n        'color': 'default'},\n       'plain_text': 'AI 小红书爆款变现',\n       'href': None}]}},\n   'url': 'https://www.notion.so/AI-c5b3e49e02f84afb94408d0939360f44',\n   'public_url': None},\n  {'object': 'page',\n   'id': '1043b7f8-2e0b-81e5-8647-daadbd679a68',\n   'created_time': '2024-09-17T14:26:00.000Z',\n   'last_edited_time': '2024-09-17T14:26:00.000Z',\n   'created_by': {'object': 'user',\n    'id': '20a4298c-ff5d-4b13-9c5c-5d1b1e2a9dce'},\n   'last_edited_by': {'object': 'user',\n    'id': '20a4298c-ff5d-4b13-9c5c-5d1b1e2a9dce'},\n   'cover': None,\n   'icon': None,\n   'parent': {'type': 'database_id',\n    'database_id': '1043b7f8-2e0b-806e-9e31-dd541a1ed332'},\n   'archived': False,\n   'in_trash': False,\n   'properties': {'专栏 ID': {'id': '%3BU%7D%3D',\n     'type': 'rich_text',\n     'rich_text': [{'type': 'text',\n       'text': {'content': 'IPcat', 'link': None},\n       'annotations': {'bold': False,\n        'italic': False,\n        'strikethrough': False,\n        'underline': False,\n        'code': False,\n        'color': 'default'},\n       'plain_text': 'IPcat',\n       'href': None}]},\n    '介绍': {'id': '%3EzVp',\n     'type': 'rich_text',\n     'rich_text': [{'type': 'text',\n       'text': {'content': '专栏包括4大板块：\\n1/认知篇：重构认知，精准避坑，少走弯路\\n2/内容篇：把握内容关键，扎牢自媒体基础\\n3/流量篇：持续获取流量，放大自媒体势能\\n4/变现篇：讲明白产品、广告，搞定变现闭环\\n\\n首次公开，阿猫从0做到100万粉的底层心法，帮你快速跑通变现闭环，赚到自媒体第一桶金。\\n\\n一共更新60篇，4月29日更新完毕。\\n原价199元，早鸟价49元，一次订阅，永久有效。\\n订阅满2600人，涨价到59元。\\n\\n购买后，加置顶帖微信，备注【心法】，送「阿猫精选自媒体书籍」「公众号运营思维导图（详尽版）」',\n        'link': None},\n       'annotations': {'bold': False,\n        'italic': False,\n        'strikethrough': False,\n        'underline': False,\n        'code': False,\n        'color': 'default'},\n       'plain_text': '专栏包括4大板块：\\n1/认知篇：重构认知，精准避坑，少走弯路\\n2/内容篇：把握内容关键，扎牢自媒体基础\\n3/流量篇：持续获取流量，放大自媒体势能\\n4/变现篇：讲明白产品、广告，搞定变现闭环\\n\\n首次公开，阿猫从0做到100万粉的底层心法，帮你快速跑通变现闭环，赚到自媒体第一桶金。\\n\\n一共更新60篇，4月29日更新完毕。\\n原价199元，早鸟价49元，一次订阅，永久有效。\\n订阅满2600人，涨价到59元。\\n\\n购买后，加置顶帖微信，备注【心法】，送「阿猫精选自媒体书籍」「公众号运营思维导图（详尽版）」',\n       'href': None}]},\n    '图标': {'id': 'MLNP',\n     'type': 'url',\n     'url': 'https://thirdwx.qlogo.cn/mmopen/vi_32/9JoxXO9ZdzIDbe3KicQoG0zibylhdmj9hblYuSe316ef8QtzQDFO8D2o35r3T0uBibl4FAib13Fo5NkwlkWGWia6x0g/132'},\n    'URL': {'id': 'S%3DfK',\n     'type': 'url',\n     'url': 'https://xiaobot.net/p/IPcat'},\n    'Files & media': {'id': 'VmIc', 'type': 'files', 'files': []},\n    '是否赞助商': {'id': '%5DuFH', 'type': 'select', 'select': None},\n    '主理人': {'id': 'f%3DCs',\n     'type': 'rich_text',\n     'rich_text': [{'type': 'text',\n       'text': {'content': '阿猫', 'link': None},\n       'annotations': {'bold': False,\n        'italic': False,\n        'strikethrough': False,\n        'underline': False,\n        'code': False,\n        'color': 'default'},\n       'plain_text': '阿猫',\n       'href': None}]},\n    '佣金比例': {'id': 'mit%5E', 'type': 'number', 'number': None},\n    '文章数': {'id': 't%3CfL', 'type': 'number', 'number': 61},\n    '内容标签': {'id': 'vypV',\n     'type': 'multi_select',\n     'multi_select': [{'id': 'b548371c-928b-46f6-bcbe-a40fc4d1467e',\n       'name': '认知篇',\n       'color': 'blue'},\n      {'id': 'a96cb3a3-85cd-4e16-a289-222d2e12bba6',\n       'name': '内容篇',\n       'color': 'orange'},\n      {'id': '76160815-7b96-4e80-9d43-92034ff37604',\n       'name': '流量篇',\n       'color': 'pink'},\n      {'id': '8b421508-ff19-46a8-8771-8dee60f01b73',\n       'name': '变现篇',\n       'color': 'purple'}]},\n    '读者数': {'id': 'x%60jQ', 'type': 'number', 'number': 2580},\n    '名称': {'id': 'title',\n     'type': 'title',\n     'title': [{'type': 'text',\n       'text': {'content': '阿猫的自媒体底层心法', 'link': None},\n       'annotations': {'bold': False,\n        'italic': False,\n        'strikethrough': False,\n        'underline': False,\n        'code': False,\n        'color': 'default'},\n       'plain_text': '阿猫的自媒体底层心法',\n       'href': None}]}},\n   'url': 'https://www.notion.so/1043b7f82e0b81e58647daadbd679a68',\n   'public_url': None},\n  {'object': 'page',\n   'id': '1043b7f8-2e0b-8100-816f-fe5a296275dd',\n   'created_time': '2024-09-17T14:25:00.000Z',\n   'last_edited_time': '2024-09-17T14:25:00.000Z',\n   'created_by': {'object': 'user',\n    'id': '20a4298c-ff5d-4b13-9c5c-5d1b1e2a9dce'},\n   'last_edited_by': {'object': 'user',\n    'id': '20a4298c-ff5d-4b13-9c5c-5d1b1e2a9dce'},\n   'cover': None,\n   'icon': None,\n   'parent': {'type': 'database_id',\n    'database_id': '1043b7f8-2e0b-806e-9e31-dd541a1ed332'},\n   'archived': False,\n   'in_trash': False,\n   'properties': {'专栏 ID': {'id': '%3BU%7D%3D',\n     'type': 'rich_text',\n     'rich_text': [{'type': 'text',\n       'text': {'content': 'xhs', 'link': None},\n       'annotations': {'bold': False,\n        'italic': False,\n        'strikethrough': False,\n        'underline': False,\n        'code': False,\n        'color': 'default'},\n       'plain_text': 'xhs',\n       'href': None}]},\n    '介绍': {'id': '%3EzVp',\n     'type': 'rich_text',\n     'rich_text': [{'type': 'text',\n       'text': {'content': '别人笔记几千几万赞，商业化收入不断，你的笔记没人看\\n\\n我是IDO老徐，帮你手工精选了 220 个小红书可复制案例（全网独一份）\\n\\n原价 199， 限时 99.88 元买断（一次订阅，永久查阅）\\n\\n快速刷一遍 220 个案例，找到你能模仿的，对标、死磕执行、快速出结果。玩流量，玩 IP，首选小红书。低门槛，低成本，反馈快。\\n\\n订阅后，截图支付记录，加微信 957863300 有专属惊喜',\n        'link': None},\n       'annotations': {'bold': False,\n        'italic': False,\n        'strikethrough': False,\n        'underline': False,\n        'code': False,\n        'color': 'default'},\n       'plain_text': '别人笔记几千几万赞，商业化收入不断，你的笔记没人看\\n\\n我是IDO老徐，帮你手工精选了 220 个小红书可复制案例（全网独一份）\\n\\n原价 199， 限时 99.88 元买断（一次订阅，永久查阅）\\n\\n快速刷一遍 220 个案例，找到你能模仿的，对标、死磕执行、快速出结果。玩流量，玩 IP，首选小红书。低门槛，低成本，反馈快。\\n\\n订阅后，截图支付记录，加微信 957863300 有专属惊喜',\n       'href': None}]},\n    '图标': {'id': 'MLNP',\n     'type': 'url',\n     'url': 'https://static.xiaobot.net/user-avatar/2023-11-11/7466/bbf199363c0ff3eb4ae91e92a8fca802.png'},\n    'URL': {'id': 'S%3DfK', 'type': 'url', 'url': 'https://xiaobot.net/p/xhs'},\n    'Files & media': {'id': 'VmIc', 'type': 'files', 'files': []},\n    '是否赞助商': {'id': '%5DuFH', 'type': 'select', 'select': None},\n    '主理人': {'id': 'f%3DCs',\n     'type': 'rich_text',\n     'rich_text': [{'type': 'text',\n       'text': {'content': 'IDO老徐', 'link': None},\n       'annotations': {'bold': False,\n        'italic': False,\n        'strikethrough': False,\n        'underline': False,\n        'code': False,\n        'color': 'default'},\n       'plain_text': 'IDO老徐',\n       'href': None}]},\n    '佣金比例': {'id': 'mit%5E', 'type': 'number', 'number': None},\n    '文章数': {'id': 't%3CfL', 'type': 'number', 'number': 245},\n    '内容标签': {'id': 'vypV',\n     'type': 'multi_select',\n     'multi_select': [{'id': 'd627ff1c-3320-44b0-ae92-fae92a5dc4a6',\n       'name': '穿搭类',\n       'color': 'brown'},\n      {'id': '45109191-01b9-4626-ad39-b18790806539',\n       'name': '副业',\n       'color': 'purple'},\n      {'id': 'e194976d-b8dd-4745-9f8b-05b1c7ae807c',\n       'name': '颜值',\n       'color': 'green'},\n      {'id': '485083cb-6f78-419d-a010-08444a9a75b0',\n       'name': '美食类',\n       'color': 'brown'},\n      {'id': 'b85809bb-3b48-44e0-97c0-8671d2ee9502',\n       'name': '育儿类',\n       'color': 'blue'},\n      {'id': 'b6c0c353-227b-4606-ac07-b97993faa0b6',\n       'name': '通用案例',\n       'color': 'default'},\n      {'id': 'e7e5230b-cf87-4ebe-8ecc-5eab6e2a19b5',\n       'name': '减肥类',\n       'color': 'purple'},\n      {'id': '4f939537-f469-4240-9373-f60a47f92707',\n       'name': '运动类',\n       'color': 'red'},\n      {'id': 'c6639d0d-2b71-4583-a5a8-f2c996c7706a',\n       'name': '知识博主案例',\n       'color': 'pink'},\n      {'id': '6612374d-7445-48e1-9954-4a7b1a1d62a5',\n       'name': '线下实体类',\n       'color': 'purple'},\n      {'id': '525b8098-f474-4a8a-866b-16d79a0bf0a3',\n       'name': '知识',\n       'color': 'blue'},\n      {'id': '517073e6-4201-4c57-8941-e5d94d9202eb',\n       'name': '读书类',\n       'color': 'orange'},\n      {'id': 'f71e6e7a-5036-4d80-94e6-e9b577164ed3',\n       'name': '写作',\n       'color': 'purple'},\n      {'id': '8b906cd1-cd14-4f7a-9b6e-1c463fa4d89d',\n       'name': '文案类',\n       'color': 'gray'},\n      {'id': '6370fca0-7678-4a35-b6ca-214b945fd031',\n       'name': '宝妈类',\n       'color': 'purple'},\n      {'id': '9b25b8a6-19fc-4359-93d6-656cadb41e42',\n       'name': '教育类',\n       'color': 'orange'},\n      {'id': '854030c8-6574-44d3-a669-3db23604311a',\n       'name': 'APP推荐',\n       'color': 'red'},\n      {'id': '908c7059-1354-4c27-804c-7706d4ebf590',\n       'name': '商业类',\n       'color': 'gray'},\n      {'id': 'bcbe9300-a316-4fc3-a59c-83109f239b9f',\n       'name': '搞笑类',\n       'color': 'default'},\n      {'id': '07cf7f72-4218-41b8-a76d-a9fea56ed5d3',\n       'name': '资料',\n       'color': 'green'},\n      {'id': '1da9dd0f-e227-4892-9e98-49f7999674f7',\n       'name': '室内设计',\n       'color': 'blue'},\n      {'id': 'd012906b-086e-4b53-97b9-9b7f94760922',\n       'name': '加餐',\n       'color': 'green'},\n      {'id': '5e141226-2f81-45f8-8e3d-e4e2796dea41',\n       'name': '职场案例',\n       'color': 'yellow'},\n      {'id': '6b0beda4-c5aa-46d7-a9c5-30918325b1c5',\n       'name': '手写案例',\n       'color': 'gray'},\n      {'id': '04a9872b-0904-4fb0-9774-65ab1c601ae9',\n       'name': '汽车博主案例',\n       'color': 'yellow'},\n      {'id': '9fc545dc-9a75-4aca-a5af-9d9329fb628d',\n       'name': '通知',\n       'color': 'default'},\n      {'id': 'd42d33f5-cfb8-4acf-94b3-865b15424832',\n       'name': '线下产品博主案例',\n       'color': 'red'},\n      {'id': 'c0fdba77-0973-46cb-81fd-827b16312884',\n       'name': '商业变现引流案例',\n       'color': 'gray'},\n      {'id': 'a8238524-24f4-40dd-8fea-95dd690626b3',\n       'name': '带货类博主案例',\n       'color': 'orange'},\n      {'id': '22d339e4-c4d0-4a98-b9e9-ed0acc7894d8',\n       'name': '健身舞蹈类博主案例',\n       'color': 'blue'},\n      {'id': 'ede07698-90df-4e8c-b26f-9600d68ecb7f',\n       'name': '实体业务博主案例',\n       'color': 'pink'},\n      {'id': '2ab0b6e4-e32b-4c39-aac7-e8af8d7865ff',\n       'name': '自媒体博主案例',\n       'color': 'purple'},\n      {'id': '8e315289-d2c9-4046-bb0d-0a284e7a21e3',\n       'name': '专家型博主案例',\n       'color': 'purple'},\n      {'id': 'ac1c83ff-2b72-470e-88da-1887a73d6266',\n       'name': '职场白领类博主案例',\n       'color': 'gray'},\n      {'id': '53117a36-b8ce-46ea-8b2a-f26000a64832',\n       'name': '考研类博主案例',\n       'color': 'brown'},\n      {'id': '58b7dff7-7a22-4309-850d-f3991fdb40c4',\n       'name': '技术类博主案例',\n       'color': 'gray'},\n      {'id': 'f4c9d939-33f3-4822-8004-dbbd4a0dc7c4',\n       'name': '商业类博主案例',\n       'color': 'red'}]},\n    '读者数': {'id': 'x%60jQ', 'type': 'number', 'number': 3739},\n    '名称': {'id': 'title',\n     'type': 'title',\n     'title': [{'type': 'text',\n       'text': {'content': '小红书可复制案例库', 'link': None},\n       'annotations': {'bold': False,\n        'italic': False,\n        'strikethrough': False,\n        'underline': False,\n        'code': False,\n        'color': 'default'},\n       'plain_text': '小红书可复制案例库',\n       'href': None}]}},\n   'url': 'https://www.notion.so/1043b7f82e0b8100816ffe5a296275dd',\n   'public_url': None},\n  {'object': 'page',\n   'id': '1043b7f8-2e0b-81ba-bb02-f5d63cbbb17b',\n   'created_time': '2024-09-17T14:25:00.000Z',\n   'last_edited_time': '2024-09-17T14:25:00.000Z',\n   'created_by': {'object': 'user',\n    'id': '20a4298c-ff5d-4b13-9c5c-5d1b1e2a9dce'},\n   'last_edited_by': {'object': 'user',\n    'id': '20a4298c-ff5d-4b13-9c5c-5d1b1e2a9dce'},\n   'cover': None,\n   'icon': None,\n   'parent': {'type': 'database_id',\n    'database_id': '1043b7f8-2e0b-806e-9e31-dd541a1ed332'},\n   'archived': False,\n   'in_trash': False,\n   'properties': {'专栏 ID': {'id': '%3BU%7D%3D',\n     'type': 'rich_text',\n     'rich_text': [{'type': 'text',\n       'text': {'content': 'juexing01', 'link': None},\n       'annotations': {'bold': False,\n        'italic': False,\n        'strikethrough': False,\n        'underline': False,\n        'code': False,\n        'color': 'default'},\n       'plain_text': 'juexing01',\n       'href': None}]},\n    '介绍': {'id': '%3EzVp',\n     'type': 'rich_text',\n     'rich_text': [{'type': 'text',\n       'text': {'content': '7年觉醒合伙人共创产品。\\n\\n阿猫全平台粉丝有100万，主营公众号。\\n觉醒合伙人领域有头条、小红书、知乎等领域。\\n\\n分享我们的自媒体底层心法，帮你少走3年弯路。\\n每周更新最少2篇，一共更新100篇。\\n\\n原价199元，早鸟价只要69 元，一顿饭钱。\\n\\n购买后看置顶帖加醒醒好友\\n送阿猫直播课《0基础做公众号》《如何做个人IP》和小报童交流群（限量赠送）。',\n        'link': None},\n       'annotations': {'bold': False,\n        'italic': False,\n        'strikethrough': False,\n        'underline': False,\n        'code': False,\n        'color': 'default'},\n       'plain_text': '7年觉醒合伙人共创产品。\\n\\n阿猫全平台粉丝有100万，主营公众号。\\n觉醒合伙人领域有头条、小红书、知乎等领域。\\n\\n分享我们的自媒体底层心法，帮你少走3年弯路。\\n每周更新最少2篇，一共更新100篇。\\n\\n原价199元，早鸟价只要69 元，一顿饭钱。\\n\\n购买后看置顶帖加醒醒好友\\n送阿猫直播课《0基础做公众号》《如何做个人IP》和小报童交流群（限量赠送）。',\n       'href': None}]},\n    '图标': {'id': 'MLNP',\n     'type': 'url',\n     'url': 'https://static.xiaobot.net/user-avatar/2023-10-12/364979/0dddf1bbfe5bbc49d91cef141cea4ae2.jpeg'},\n    'URL': {'id': 'S%3DfK',\n     'type': 'url',\n     'url': 'https://xiaobot.net/p/juexing01'},\n    'Files & media': {'id': 'VmIc', 'type': 'files', 'files': []},\n    '是否赞助商': {'id': '%5DuFH', 'type': 'select', 'select': None},\n    '主理人': {'id': 'f%3DCs',\n     'type': 'rich_text',\n     'rich_text': [{'type': 'text',\n       'text': {'content': '阿猫', 'link': None},\n       'annotations': {'bold': False,\n        'italic': False,\n        'strikethrough': False,\n        'underline': False,\n        'code': False,\n        'color': 'default'},\n       'plain_text': '阿猫',\n       'href': None}]},\n    '佣金比例': {'id': 'mit%5E', 'type': 'number', 'number': None},\n    '文章数': {'id': 't%3CfL', 'type': 'number', 'number': 80},\n    '内容标签': {'id': 'vypV',\n     'type': 'multi_select',\n     'multi_select': [{'id': '43bb4070-5534-46cc-9fab-cc0e58bad260',\n       'name': '公众号篇',\n       'color': 'orange'},\n      {'id': 'e9ab7e13-3d0e-4bdd-8815-ef6f9d4d956a',\n       'name': '小红书篇',\n       'color': 'green'},\n      {'id': 'fdf1bb22-b8ce-4fce-a274-6ab2f0bae5b5',\n       'name': '朋友圈篇',\n       'color': 'orange'},\n      {'id': '28860b93-c194-4365-b87b-395f4ef48fb0',\n       'name': 'B站篇',\n       'color': 'orange'},\n      {'id': '051e15e9-c582-4d04-b843-76118ca27be3',\n       'name': '私域篇',\n       'color': 'red'},\n      {'id': '96f8d2c6-8a77-4ca9-9ae1-fb4740c65d99',\n       'name': '视频号篇',\n       'color': 'purple'},\n      {'id': '7473bfce-b92b-44fe-87d2-674430c287f2',\n       'name': '社群篇',\n       'color': 'brown'},\n      {'id': '78c1b4d0-7975-42fb-85bd-153c7fe8e957',\n       'name': '头条篇',\n       'color': 'orange'},\n      {'id': 'e9ad4e69-e39d-4926-90f5-14c9fcbbed2a',\n       'name': '咸鱼篇',\n       'color': 'green'},\n      {'id': '57262a3c-23a7-47b8-abcf-72f712acd8ee',\n       'name': '知乎篇',\n       'color': 'green'}]},\n    '读者数': {'id': 'x%60jQ', 'type': 'number', 'number': 4788},\n    '名称': {'id': 'title',\n     'type': 'title',\n     'title': [{'type': 'text',\n       'text': {'content': '自媒体百万粉丝指南', 'link': None},\n       'annotations': {'bold': False,\n        'italic': False,\n        'strikethrough': False,\n        'underline': False,\n        'code': False,\n        'color': 'default'},\n       'plain_text': '自媒体百万粉丝指南',\n       'href': None}]}},\n   'url': 'https://www.notion.so/1043b7f82e0b81babb02f5d63cbbb17b',\n   'public_url': None},\n  {'object': 'page',\n   'id': '1043b7f8-2e0b-817a-89ff-c61c82cfcb40',\n   'created_time': '2024-09-17T14:25:00.000Z',\n   'last_edited_time': '2024-09-17T14:25:00.000Z',\n   'created_by': {'object': 'user',\n    'id': '20a4298c-ff5d-4b13-9c5c-5d1b1e2a9dce'},\n   'last_edited_by': {'object': 'user',\n    'id': '20a4298c-ff5d-4b13-9c5c-5d1b1e2a9dce'},\n   'cover': None,\n   'icon': None,\n   'parent': {'type': 'database_id',\n    'database_id': '1043b7f8-2e0b-806e-9e31-dd541a1ed332'},\n   'archived': False,\n   'in_trash': False,\n   'properties': {'专栏 ID': {'id': '%3BU%7D%3D',\n     'type': 'rich_text',\n     'rich_text': [{'type': 'text',\n       'text': {'content': 'weixin', 'link': None},\n       'annotations': {'bold': False,\n        'italic': False,\n        'strikethrough': False,\n        'underline': False,\n        'code': False,\n        'color': 'default'},\n       'plain_text': 'weixin',\n       'href': None}]},\n    '介绍': {'id': '%3EzVp',\n     'type': 'rich_text',\n     'rich_text': [{'type': 'text',\n       'text': {'content': '我是 IDO老徐，读者 10w，付费用户 2w。在职场，玩副业，无助理。我怎么搞定这些的？\\n\\n嗯，这个专栏，输出 IDO老徐玩私域复利必备的小技巧（时间复利，重复 N 次商业化），一个人就是一家公司。\\n\\n轻创业者，副业玩家，必备微信私域小技巧。\\n* 每篇帖子很短，1 分钟看两篇。且值得反复看 100 遍，去执行。\\n\\n原价 699，限时最低价 56.99 ，全部都是实战经验，看到就是赚了。满 1500 人涨价至 77.99\\n\\n订阅后，微信 957863300 找我，发支付截图，解锁「定向朋友圈和资料包」。',\n        'link': None},\n       'annotations': {'bold': False,\n        'italic': False,\n        'strikethrough': False,\n        'underline': False,\n        'code': False,\n        'color': 'default'},\n       'plain_text': '我是 IDO老徐，读者 10w，付费用户 2w。在职场，玩副业，无助理。我怎么搞定这些的？\\n\\n嗯，这个专栏，输出 IDO老徐玩私域复利必备的小技巧（时间复利，重复 N 次商业化），一个人就是一家公司。\\n\\n轻创业者，副业玩家，必备微信私域小技巧。\\n* 每篇帖子很短，1 分钟看两篇。且值得反复看 100 遍，去执行。\\n\\n原价 699，限时最低价 56.99 ，全部都是实战经验，看到就是赚了。满 1500 人涨价至 77.99\\n\\n订阅后，微信 957863300 找我，发支付截图，解锁「定向朋友圈和资料包」。',\n       'href': None}]},\n    '图标': {'id': 'MLNP',\n     'type': 'url',\n     'url': 'https://static.xiaobot.net/user-avatar/2023-11-11/7466/bbf199363c0ff3eb4ae91e92a8fca802.png'},\n    'URL': {'id': 'S%3DfK',\n     'type': 'url',\n     'url': 'https://xiaobot.net/p/weixin'},\n    'Files & media': {'id': 'VmIc', 'type': 'files', 'files': []},\n    '是否赞助商': {'id': '%5DuFH', 'type': 'select', 'select': None},\n    '主理人': {'id': 'f%3DCs',\n     'type': 'rich_text',\n     'rich_text': [{'type': 'text',\n       'text': {'content': 'IDO老徐', 'link': None},\n       'annotations': {'bold': False,\n        'italic': False,\n        'strikethrough': False,\n        'underline': False,\n        'code': False,\n        'color': 'default'},\n       'plain_text': 'IDO老徐',\n       'href': None}]},\n    '佣金比例': {'id': 'mit%5E', 'type': 'number', 'number': None},\n    '文章数': {'id': 't%3CfL', 'type': 'number', 'number': 80},\n    '内容标签': {'id': 'vypV', 'type': 'multi_select', 'multi_select': []},\n    '读者数': {'id': 'x%60jQ', 'type': 'number', 'number': 1357},\n    '名称': {'id': 'title',\n     'type': 'title',\n     'title': [{'type': 'text',\n       'text': {'content': '一人企业·私域复利小技巧', 'link': None},\n       'annotations': {'bold': False,\n        'italic': False,\n        'strikethrough': False,\n        'underline': False,\n        'code': False,\n        'color': 'default'},\n       'plain_text': '一人企业·私域复利小技巧',\n       'href': None}]}},\n   'url': 'https://www.notion.so/1043b7f82e0b817a89ffc61c82cfcb40',\n   'public_url': None},\n  {'object': 'page',\n   'id': '1043b7f8-2e0b-8117-ac68-c87fff38e084',\n   'created_time': '2024-09-17T14:24:00.000Z',\n   'last_edited_time': '2024-09-17T14:24:00.000Z',\n   'created_by': {'object': 'user',\n    'id': '20a4298c-ff5d-4b13-9c5c-5d1b1e2a9dce'},\n   'last_edited_by': {'object': 'user',\n    'id': '20a4298c-ff5d-4b13-9c5c-5d1b1e2a9dce'},\n   'cover': None,\n   'icon': None,\n   'parent': {'type': 'database_id',\n    'database_id': '1043b7f8-2e0b-806e-9e31-dd541a1ed332'},\n   'archived': False,\n   'in_trash': False,\n   'properties': {'专栏 ID': {'id': '%3BU%7D%3D',\n     'type': 'rich_text',\n     'rich_text': [{'type': 'text',\n       'text': {'content': '100200', 'link': None},\n       'annotations': {'bold': False,\n        'italic': False,\n        'strikethrough': False,\n        'underline': False,\n        'code': False,\n        'color': 'default'},\n       'plain_text': '100200',\n       'href': None}]},\n    '介绍': {'id': '%3EzVp',\n     'type': 'rich_text',\n     'rich_text': [{'type': 'text',\n       'text': {'content': '本专栏的定位：那些对洋哥「万元客单价」新产品「破局合伙人」有兴趣，但还在纠结的朋友，比如感觉太贵、感觉自己买了后不一定能跑出来，对于这类朋友，我做的一个小册。\\n\\n小册收录了洋哥在内测「破局合伙人」这四个多月，遇到的真实问题，也包括破局合伙人孵化出来的真实案例。\\n\\n价格18.8元，可查阅专栏全部内容，我会持续更新至100篇以上，如果觉得有用，可以添加洋哥微信：poju2324 找我聊，备注：加入合伙人。\\n\\n如果觉得专栏没价值，可随时私信洋哥完成退费。',\n        'link': None},\n       'annotations': {'bold': False,\n        'italic': False,\n        'strikethrough': False,\n        'underline': False,\n        'code': False,\n        'color': 'default'},\n       'plain_text': '本专栏的定位：那些对洋哥「万元客单价」新产品「破局合伙人」有兴趣，但还在纠结的朋友，比如感觉太贵、感觉自己买了后不一定能跑出来，对于这类朋友，我做的一个小册。\\n\\n小册收录了洋哥在内测「破局合伙人」这四个多月，遇到的真实问题，也包括破局合伙人孵化出来的真实案例。\\n\\n价格18.8元，可查阅专栏全部内容，我会持续更新至100篇以上，如果觉得有用，可以添加洋哥微信：poju2324 找我聊，备注：加入合伙人。\\n\\n如果觉得专栏没价值，可随时私信洋哥完成退费。',\n       'href': None}]},\n    '图标': {'id': 'MLNP',\n     'type': 'url',\n     'url': 'https://thirdwx.qlogo.cn/mmopen/vi_32/DYAIOgq83eoYrLGgfJnV54d2mTPhz4iaT6LNcIdYMCd3cF3SqzWic2YeJoPsogYdqSdwusWvQhs5k4JPFKTOpPkQ/132'},\n    'URL': {'id': 'S%3DfK',\n     'type': 'url',\n     'url': 'https://xiaobot.net/p/100200'},\n    'Files & media': {'id': 'VmIc', 'type': 'files', 'files': []},\n    '是否赞助商': {'id': '%5DuFH', 'type': 'select', 'select': None},\n    '主理人': {'id': 'f%3DCs',\n     'type': 'rich_text',\n     'rich_text': [{'type': 'text',\n       'text': {'content': 'findyi', 'link': None},\n       'annotations': {'bold': False,\n        'italic': False,\n        'strikethrough': False,\n        'underline': False,\n        'code': False,\n        'color': 'default'},\n       'plain_text': 'findyi',\n       'href': None}]},\n    '佣金比例': {'id': 'mit%5E', 'type': 'number', 'number': None},\n    '文章数': {'id': 't%3CfL', 'type': 'number', 'number': 50},\n    '内容标签': {'id': 'vypV', 'type': 'multi_select', 'multi_select': []},\n    '读者数': {'id': 'x%60jQ', 'type': 'number', 'number': 1428},\n    '名称': {'id': 'title',\n     'type': 'title',\n     'title': [{'type': 'text',\n       'text': {'content': '破局合伙人·一年顶十年（100问）', 'link': None},\n       'annotations': {'bold': False,\n        'italic': False,\n        'strikethrough': False,\n        'underline': False,\n        'code': False,\n        'color': 'default'},\n       'plain_text': '破局合伙人·一年顶十年（100问）',\n       'href': None}]}},\n   'url': 'https://www.notion.so/100-1043b7f82e0b8117ac68c87fff38e084',\n   'public_url': None},\n  {'object': 'page',\n   'id': '1043b7f8-2e0b-811c-be24-c89103938081',\n   'created_time': '2024-09-17T14:24:00.000Z',\n   'last_edited_time': '2024-09-17T14:24:00.000Z',\n   'created_by': {'object': 'user',\n    'id': '20a4298c-ff5d-4b13-9c5c-5d1b1e2a9dce'},\n   'last_edited_by': {'object': 'user',\n    'id': '20a4298c-ff5d-4b13-9c5c-5d1b1e2a9dce'},\n   'cover': None,\n   'icon': None,\n   'parent': {'type': 'database_id',\n    'database_id': '1043b7f8-2e0b-806e-9e31-dd541a1ed332'},\n   'archived': False,\n   'in_trash': False,\n   'properties': {'专栏 ID': {'id': '%3BU%7D%3D',\n     'type': 'rich_text',\n     'rich_text': [{'type': 'text',\n       'text': {'content': 'info', 'link': None},\n       'annotations': {'bold': False,\n        'italic': False,\n        'strikethrough': False,\n        'underline': False,\n        'code': False,\n        'color': 'default'},\n       'plain_text': 'info',\n       'href': None}]},\n    '介绍': {'id': '%3EzVp',\n     'type': 'rich_text',\n     'rich_text': [{'type': 'text',\n       'text': {'content': '手动精选各种搞钱信息差\\n越短越好，提升阅读效率\\n\\n作者：生财王子，AI破局俱乐部合伙人，AI破局航海教练，10年以上SEO及网络营销经验\\n\\n原价99，特价20.88\\n先订先赚\\n订阅后，截图支付记录，加微信 76718400 进搞钱信息差陪伴群',\n        'link': None},\n       'annotations': {'bold': False,\n        'italic': False,\n        'strikethrough': False,\n        'underline': False,\n        'code': False,\n        'color': 'default'},\n       'plain_text': '手动精选各种搞钱信息差\\n越短越好，提升阅读效率\\n\\n作者：生财王子，AI破局俱乐部合伙人，AI破局航海教练，10年以上SEO及网络营销经验\\n\\n原价99，特价20.88\\n先订先赚\\n订阅后，截图支付记录，加微信 76718400 进搞钱信息差陪伴群',\n       'href': None}]},\n    '图标': {'id': 'MLNP',\n     'type': 'url',\n     'url': 'https://thirdwx.qlogo.cn/mmopen/vi_32/u66y1bW3aIulTAr8yrcn03zaTkNRic6KHlia5hMx7SqPl7adEKibMeXxzyCfLCf28c3vFY9waObrOtVRaUwX2EEXA/132'},\n    'URL': {'id': 'S%3DfK',\n     'type': 'url',\n     'url': 'https://xiaobot.net/p/info'},\n    'Files & media': {'id': 'VmIc', 'type': 'files', 'files': []},\n    '是否赞助商': {'id': '%5DuFH', 'type': 'select', 'select': None},\n    '主理人': {'id': 'f%3DCs',\n     'type': 'rich_text',\n     'rich_text': [{'type': 'text',\n       'text': {'content': '生财王子', 'link': None},\n       'annotations': {'bold': False,\n        'italic': False,\n        'strikethrough': False,\n        'underline': False,\n        'code': False,\n        'color': 'default'},\n       'plain_text': '生财王子',\n       'href': None}]},\n    '佣金比例': {'id': 'mit%5E', 'type': 'number', 'number': None},\n    '文章数': {'id': 't%3CfL', 'type': 'number', 'number': 107},\n    '内容标签': {'id': 'vypV', 'type': 'multi_select', 'multi_select': []},\n    '读者数': {'id': 'x%60jQ', 'type': 'number', 'number': 1430},\n    '名称': {'id': 'title',\n     'type': 'title',\n     'title': [{'type': 'text',\n       'text': {'content': '搞钱信息差', 'link': None},\n       'annotations': {'bold': False,\n        'italic': False,\n        'strikethrough': False,\n        'underline': False,\n        'code': False,\n        'color': 'default'},\n       'plain_text': '搞钱信息差',\n       'href': None}]}},\n   'url': 'https://www.notion.so/1043b7f82e0b811cbe24c89103938081',\n   'public_url': None},\n  {'object': 'page',\n   'id': '1043b7f8-2e0b-819d-bc79-c59a13523176',\n   'created_time': '2024-09-17T14:24:00.000Z',\n   'last_edited_time': '2024-09-17T14:24:00.000Z',\n   'created_by': {'object': 'user',\n    'id': '20a4298c-ff5d-4b13-9c5c-5d1b1e2a9dce'},\n   'last_edited_by': {'object': 'user',\n    'id': '20a4298c-ff5d-4b13-9c5c-5d1b1e2a9dce'},\n   'cover': None,\n   'icon': None,\n   'parent': {'type': 'database_id',\n    'database_id': '1043b7f8-2e0b-806e-9e31-dd541a1ed332'},\n   'archived': False,\n   'in_trash': False,\n   'properties': {'专栏 ID': {'id': '%3BU%7D%3D',\n     'type': 'rich_text',\n     'rich_text': [{'type': 'text',\n       'text': {'content': 'podcast001', 'link': None},\n       'annotations': {'bold': False,\n        'italic': False,\n        'strikethrough': False,\n        'underline': False,\n        'code': False,\n        'color': 'default'},\n       'plain_text': 'podcast001',\n       'href': None}]},\n    '介绍': {'id': '%3EzVp',\n     'type': 'rich_text',\n     'rich_text': [{'type': 'text',\n       'text': {'content': 'hi，我是《末日狂花》、《消费圈内人》和前《温柔一刀》的制作人旺仔珂珂糖。\\n我对本册子的定位是：最简单、最容易上手、不讲大道理，看完就能自己上手做的播客制作手册。\\n\\n- 限时258元（永久买断）\\n- 满 3000 人涨价至 299 元\\n\\n\\n付费之后，你将获得：\\n- 20 篇播客制作步骤的详细拆解+播客创作者社群精华系列+主播锦囊系列，保姆级教程帮助你上手播客制作，少走弯路；\\n- 独家播客创作者社群，可在群内认识其他的播客创作者伙伴；\\n- 永久买断制，可以随时观看已发布的内容。',\n        'link': None},\n       'annotations': {'bold': False,\n        'italic': False,\n        'strikethrough': False,\n        'underline': False,\n        'code': False,\n        'color': 'default'},\n       'plain_text': 'hi，我是《末日狂花》、《消费圈内人》和前《温柔一刀》的制作人旺仔珂珂糖。\\n我对本册子的定位是：最简单、最容易上手、不讲大道理，看完就能自己上手做的播客制作手册。\\n\\n- 限时258元（永久买断）\\n- 满 3000 人涨价至 299 元\\n\\n\\n付费之后，你将获得：\\n- 20 篇播客制作步骤的详细拆解+播客创作者社群精华系列+主播锦囊系列，保姆级教程帮助你上手播客制作，少走弯路；\\n- 独家播客创作者社群，可在群内认识其他的播客创作者伙伴；\\n- 永久买断制，可以随时观看已发布的内容。',\n       'href': None}]},\n    '图标': {'id': 'MLNP',\n     'type': 'url',\n     'url': 'https://thirdwx.qlogo.cn/mmopen/vi_32/Q0j4TwGTfTK0DgLsDPcgV0TGUf3RdLUJCictIv7QYbrzscSODZuLDlkIbfbrtPCZh6TeGVnoQEyAHUic1YGNUQow/132'},\n    'URL': {'id': 'S%3DfK',\n     'type': 'url',\n     'url': 'https://xiaobot.net/p/podcast001'},\n    'Files & media': {'id': 'VmIc', 'type': 'files', 'files': []},\n    '是否赞助商': {'id': '%5DuFH', 'type': 'select', 'select': None},\n    '主理人': {'id': 'f%3DCs',\n     'type': 'rich_text',\n     'rich_text': [{'type': 'text',\n       'text': {'content': '旺仔珂珂糖', 'link': None},\n       'annotations': {'bold': False,\n        'italic': False,\n        'strikethrough': False,\n        'underline': False,\n        'code': False,\n        'color': 'default'},\n       'plain_text': '旺仔珂珂糖',\n       'href': None}]},\n    '佣金比例': {'id': 'mit%5E', 'type': 'number', 'number': None},\n    '文章数': {'id': 't%3CfL', 'type': 'number', 'number': 23},\n    '内容标签': {'id': 'vypV',\n     'type': 'multi_select',\n     'multi_select': [{'id': 'f1a16d6b-4454-49f1-8c35-9f916760f383',\n       'name': '内容制作',\n       'color': 'gray'},\n      {'id': '92f94ec6-93c6-4e7f-b718-d84129930a63',\n       'name': '内容定位',\n       'color': 'red'},\n      {'id': '362a1698-f33a-41d9-8bba-083f655bbaa3',\n       'name': '运营推广',\n       'color': 'red'},\n      {'id': 'd012906b-086e-4b53-97b9-9b7f94760922',\n       'name': '加餐',\n       'color': 'green'},\n      {'id': '6455b3bf-9bfb-4bd6-b7fe-ced54b97abf2',\n       'name': '播客',\n       'color': 'default'},\n      {'id': '38909b70-7ea7-4f69-85d7-0c449cd7a81c',\n       'name': '播客制作',\n       'color': 'default'}]},\n    '读者数': {'id': 'x%60jQ', 'type': 'number', 'number': 3035},\n    '名称': {'id': 'title',\n     'type': 'title',\n     'title': [{'type': 'text',\n       'text': {'content': '你的第一本播客制作指南', 'link': None},\n       'annotations': {'bold': False,\n        'italic': False,\n        'strikethrough': False,\n        'underline': False,\n        'code': False,\n        'color': 'default'},\n       'plain_text': '你的第一本播客制作指南',\n       'href': None}]}},\n   'url': 'https://www.notion.so/1043b7f82e0b819dbc79c59a13523176',\n   'public_url': None},\n  {'object': 'page',\n   'id': '1043b7f8-2e0b-81c8-9f76-fb0b18e662ee',\n   'created_time': '2024-09-17T14:23:00.000Z',\n   'last_edited_time': '2024-09-17T14:23:00.000Z',\n   'created_by': {'object': 'user',\n    'id': '20a4298c-ff5d-4b13-9c5c-5d1b1e2a9dce'},\n   'last_edited_by': {'object': 'user',\n    'id': '20a4298c-ff5d-4b13-9c5c-5d1b1e2a9dce'},\n   'cover': None,\n   'icon': None,\n   'parent': {'type': 'database_id',\n    'database_id': '1043b7f8-2e0b-806e-9e31-dd541a1ed332'},\n   'archived': False,\n   'in_trash': False,\n   'properties': {'专栏 ID': {'id': '%3BU%7D%3D',\n     'type': 'rich_text',\n     'rich_text': [{'type': 'text',\n       'text': {'content': 'fly100', 'link': None},\n       'annotations': {'bold': False,\n        'italic': False,\n        'strikethrough': False,\n        'underline': False,\n        'code': False,\n        'color': 'default'},\n       'plain_text': 'fly100',\n       'href': None}]},\n    '介绍': {'id': '%3EzVp',\n     'type': 'rich_text',\n     'rich_text': [{'type': 'text',\n       'text': {'content': '最新、最热的互联网赚钱项目拆解，向有结果的人拿答案。\\n\\n(连载中，每 2 周更新 1 篇，随时涨价！)\\n\\n[重要]订阅福利，购买后添加服务官夏夏(evaa6610)，进小报童专属群，送一份价值199元的挣钱资料。\\n\\n目前为特惠价（永久买断），阶梯涨价随时提价，最终价格299元！',\n        'link': None},\n       'annotations': {'bold': False,\n        'italic': False,\n        'strikethrough': False,\n        'underline': False,\n        'code': False,\n        'color': 'default'},\n       'plain_text': '最新、最热的互联网赚钱项目拆解，向有结果的人拿答案。\\n\\n(连载中，每 2 周更新 1 篇，随时涨价！)\\n\\n[重要]订阅福利，购买后添加服务官夏夏(evaa6610)，进小报童专属群，送一份价值199元的挣钱资料。\\n\\n目前为特惠价（永久买断），阶梯涨价随时提价，最终价格299元！',\n       'href': None}]},\n    '图标': {'id': 'MLNP',\n     'type': 'url',\n     'url': 'https://thirdwx.qlogo.cn/mmopen/vi_32/Q0j4TwGTfTIvEl6StVllJcGml8xicMcPQG9WWBwfTke7ZQ8JXia7EnQmKkRiaBictuMXKO2TkQ91lUzZY56IkAJ4gQ/132'},\n    'URL': {'id': 'S%3DfK',\n     'type': 'url',\n     'url': 'https://xiaobot.net/p/fly100'},\n    'Files & media': {'id': 'VmIc', 'type': 'files', 'files': []},\n    '是否赞助商': {'id': '%5DuFH', 'type': 'select', 'select': None},\n    '主理人': {'id': 'f%3DCs',\n     'type': 'rich_text',\n     'rich_text': [{'type': 'text',\n       'text': {'content': '纯洁的微笑', 'link': None},\n       'annotations': {'bold': False,\n        'italic': False,\n        'strikethrough': False,\n        'underline': False,\n        'code': False,\n        'color': 'default'},\n       'plain_text': '纯洁的微笑',\n       'href': None}]},\n    '佣金比例': {'id': 'mit%5E', 'type': 'number', 'number': None},\n    '文章数': {'id': 't%3CfL', 'type': 'number', 'number': 44},\n    '内容标签': {'id': 'vypV', 'type': 'multi_select', 'multi_select': []},\n    '读者数': {'id': 'x%60jQ', 'type': 'number', 'number': 5881},\n    '名称': {'id': 'title',\n     'type': 'title',\n     'title': [{'type': 'text',\n       'text': {'content': '100种互联网热门赚钱方法', 'link': None},\n       'annotations': {'bold': False,\n        'italic': False,\n        'strikethrough': False,\n        'underline': False,\n        'code': False,\n        'color': 'default'},\n       'plain_text': '100种互联网热门赚钱方法',\n       'href': None}]}},\n   'url': 'https://www.notion.so/100-1043b7f82e0b81c89f76fb0b18e662ee',\n   'public_url': None},\n  {'object': 'page',\n   'id': '1043b7f8-2e0b-8156-b7c2-d76e6c471636',\n   'created_time': '2024-09-17T14:23:00.000Z',\n   'last_edited_time': '2024-09-17T14:24:00.000Z',\n   'created_by': {'object': 'user',\n    'id': '20a4298c-ff5d-4b13-9c5c-5d1b1e2a9dce'},\n   'last_edited_by': {'object': 'user',\n    'id': 'a1ed7f3c-b667-4203-8441-02ae9aa2bfb1'},\n   'cover': None,\n   'icon': {'type': 'external',\n    'external': {'url': 'https://www.notion.so/icons/pen_gray.svg'}},\n   'parent': {'type': 'database_id',\n    'database_id': '1043b7f8-2e0b-806e-9e31-dd541a1ed332'},\n   'archived': False,\n   'in_trash': False,\n   'properties': {'专栏 ID': {'id': '%3BU%7D%3D',\n     'type': 'rich_text',\n     'rich_text': [{'type': 'text',\n       'text': {'content': 'ziyouzhiye', 'link': None},\n       'annotations': {'bold': False,\n        'italic': False,\n        'strikethrough': False,\n        'underline': False,\n        'code': False,\n        'color': 'default'},\n       'plain_text': 'ziyouzhiye',\n       'href': None}]},\n    '介绍': {'id': '%3EzVp',\n     'type': 'rich_text',\n     'rich_text': [{'type': 'text',\n       'text': {'content': '作者赵立心：前大厂产品经理，裸辞自由职业2年。辞职半年打平原收入，毕业4年实现月入六位数。擅长帮助职场人实现职场转型、IP打造，完成自由职业起步0-100w。\\n\\n小册共10个专栏：自由职业基本问题、商业模式篇、辞职转型篇、心力篇、定位及常见方式篇、流量自媒体篇、产品篇、转化篇、时间管理篇、常见问答。\\n\\n原价2000元，现价14元买断，每千人涨价。买完看置顶帖，进专属知识星球，分享自由职业0-100w日常。\\n\\n加微信「aijun20230504」，领自由职业资料一份。',\n        'link': None},\n       'annotations': {'bold': False,\n        'italic': False,\n        'strikethrough': False,\n        'underline': False,\n        'code': False,\n        'color': 'default'},\n       'plain_text': '作者赵立心：前大厂产品经理，裸辞自由职业2年。辞职半年打平原收入，毕业4年实现月入六位数。擅长帮助职场人实现职场转型、IP打造，完成自由职业起步0-100w。\\n\\n小册共10个专栏：自由职业基本问题、商业模式篇、辞职转型篇、心力篇、定位及常见方式篇、流量自媒体篇、产品篇、转化篇、时间管理篇、常见问答。\\n\\n原价2000元，现价14元买断，每千人涨价。买完看置顶帖，进专属知识星球，分享自由职业0-100w日常。\\n\\n加微信「aijun20230504」，领自由职业资料一份。',\n       'href': None}]},\n    '图标': {'id': 'MLNP',\n     'type': 'url',\n     'url': 'https://static.xiaobot.net/user-avatar/2024-02-25/16551/d114aa0c30fa66b583e1fed277ded3f5.png'},\n    'URL': {'id': 'S%3DfK',\n     'type': 'url',\n     'url': 'https://xiaobot.net/p/ziyouzhiye'},\n    'Files & media': {'id': 'VmIc', 'type': 'files', 'files': []},\n    '是否赞助商': {'id': '%5DuFH', 'type': 'select', 'select': None},\n    '主理人': {'id': 'f%3DCs',\n     'type': 'rich_text',\n     'rich_text': [{'type': 'text',\n       'text': {'content': '赵立心', 'link': None},\n       'annotations': {'bold': False,\n        'italic': False,\n        'strikethrough': False,\n        'underline': False,\n        'code': False,\n        'color': 'default'},\n       'plain_text': '赵立心',\n       'href': None}]},\n    '佣金比例': {'id': 'mit%5E', 'type': 'number', 'number': None},\n    '文章数': {'id': 't%3CfL', 'type': 'number', 'number': 166},\n    '内容标签': {'id': 'vypV',\n     'type': 'multi_select',\n     'multi_select': [{'id': '933bc65d-eb0d-48fc-9bd2-5dd1a52e5c2b',\n       'name': '定位',\n       'color': 'blue'},\n      {'id': '22e89ee2-b1f9-4d5a-b96f-befa31d55610',\n       'name': '流量',\n       'color': 'pink'},\n      {'id': '29eb6355-7899-47e0-9636-7c5f06a72225',\n       'name': '产品',\n       'color': 'red'},\n      {'id': 'b8eb032e-b700-433c-9df5-ffd41b64847b',\n       'name': '转化',\n       'color': 'purple'},\n      {'id': 'ccf477ab-3cf3-4fde-ace0-18e36a98d6f8',\n       'name': '商业模式',\n       'color': 'red'},\n      {'id': '3389923a-4f2a-4967-942a-ecb23f2bdddd',\n       'name': '辞职',\n       'color': 'purple'},\n      {'id': '1f852179-7540-4e1d-aeb3-b185abb162da',\n       'name': '时间管理',\n       'color': 'green'},\n      {'id': '9e02487d-c0d3-47fd-aa91-f66f01611504',\n       'name': '心力',\n       'color': 'pink'},\n      {'id': '127465ac-d149-48a7-b1c2-aceb739e201c',\n       'name': '内核',\n       'color': 'blue'}]},\n    '读者数': {'id': 'x%60jQ', 'type': 'number', 'number': 8919},\n    '名称': {'id': 'title',\n     'type': 'title',\n     'title': [{'type': 'text',\n       'text': {'content': '自由职业0-100w指南大全', 'link': None},\n       'annotations': {'bold': False,\n        'italic': False,\n        'strikethrough': False,\n        'underline': False,\n        'code': False,\n        'color': 'default'},\n       'plain_text': '自由职业0-100w指南大全',\n       'href': None}]}},\n   'url': 'https://www.notion.so/0-100w-1043b7f82e0b8156b7c2d76e6c471636',\n   'public_url': None},\n  {'object': 'page',\n   'id': '1043b7f8-2e0b-8159-9b37-ed0e77b46a3e',\n   'created_time': '2024-09-17T14:23:00.000Z',\n   'last_edited_time': '2024-09-17T14:23:00.000Z',\n   'created_by': {'object': 'user',\n    'id': '20a4298c-ff5d-4b13-9c5c-5d1b1e2a9dce'},\n   'last_edited_by': {'object': 'user',\n    'id': '20a4298c-ff5d-4b13-9c5c-5d1b1e2a9dce'},\n   'cover': None,\n   'icon': None,\n   'parent': {'type': 'database_id',\n    'database_id': '1043b7f8-2e0b-806e-9e31-dd541a1ed332'},\n   'archived': False,\n   'in_trash': False,\n   'properties': {'专栏 ID': {'id': '%3BU%7D%3D',\n     'type': 'rich_text',\n     'rich_text': [{'type': 'text',\n       'text': {'content': 'whereisyi2', 'link': None},\n       'annotations': {'bold': False,\n        'italic': False,\n        'strikethrough': False,\n        'underline': False,\n        'code': False,\n        'color': 'default'},\n       'plain_text': 'whereisyi2',\n       'href': None}]},\n    '介绍': {'id': '%3EzVp',\n     'type': 'rich_text',\n     'rich_text': [{'type': 'text',\n       'text': {'content': '👩🏻\\u200d🌾\\n2016-2021麦肯锡咨询师，洛杉矶、北京、内罗毕办公室\\n2021至今辞职创业，肯尼亚农业科技公司FarmWorks\\n🍀\\n第二季了，让我们一起玩人生这场游戏！\\n100篇非洲创业故事，职场实战干货，人生底层信念和关键认知。\\n✨\\n已完结专栏三册：\\n【第一季100篇】：xiaobot.net\\n【心态大师】：xiaobot.net\\n【你的第一本人际关系指南】：xiaobot.net',\n        'link': None},\n       'annotations': {'bold': False,\n        'italic': False,\n        'strikethrough': False,\n        'underline': False,\n        'code': False,\n        'color': 'default'},\n       'plain_text': '👩🏻\\u200d🌾\\n2016-2021麦肯锡咨询师，洛杉矶、北京、内罗毕办公室\\n2021至今辞职创业，肯尼亚农业科技公司FarmWorks\\n🍀\\n第二季了，让我们一起玩人生这场游戏！\\n100篇非洲创业故事，职场实战干货，人生底层信念和关键认知。\\n✨\\n已完结专栏三册：\\n【第一季100篇】：xiaobot.net\\n【心态大师】：xiaobot.net\\n【你的第一本人际关系指南】：xiaobot.net',\n       'href': None}]},\n    '图标': {'id': 'MLNP',\n     'type': 'url',\n     'url': 'https://static.xiaobot.net/user-avatar/2022-07-23/35190/f73695d28eea0ee911181875eb803a58.jpeg'},\n    'URL': {'id': 'S%3DfK',\n     'type': 'url',\n     'url': 'https://xiaobot.net/p/whereisyi2'},\n    'Files & media': {'id': 'VmIc', 'type': 'files', 'files': []},\n    '是否赞助商': {'id': '%5DuFH', 'type': 'select', 'select': None},\n    '主理人': {'id': 'f%3DCs',\n     'type': 'rich_text',\n     'rich_text': [{'type': 'text',\n       'text': {'content': '李奕👩🏻\\u200d🌾', 'link': None},\n       'annotations': {'bold': False,\n        'italic': False,\n        'strikethrough': False,\n        'underline': False,\n        'code': False,\n        'color': 'default'},\n       'plain_text': '李奕👩🏻\\u200d🌾',\n       'href': None}]},\n    '佣金比例': {'id': 'mit%5E', 'type': 'number', 'number': None},\n    '文章数': {'id': 't%3CfL', 'type': 'number', 'number': 97},\n    '内容标签': {'id': 'vypV',\n     'type': 'multi_select',\n     'multi_select': [{'id': '708f0131-93b1-4968-a952-7d4c47a1dafb',\n       'name': '职场进阶',\n       'color': 'brown'},\n      {'id': '9ab146e8-ea4f-40c5-811b-de9c4a17017a',\n       'name': '走进非洲',\n       'color': 'yellow'},\n      {'id': '2d7db1e8-6f8a-415d-95c5-31d7660dd3e6',\n       'name': '认知重塑',\n       'color': 'yellow'},\n      {'id': '9d2872ed-00ba-45ff-8358-a0e03b6e5f13',\n       'name': '人生课题',\n       'color': 'default'}]},\n    '读者数': {'id': 'x%60jQ', 'type': 'number', 'number': 1510},\n    '名称': {'id': 'title',\n     'type': 'title',\n     'title': [{'type': 'text',\n       'text': {'content': '李奕在哪儿｜第二季', 'link': None},\n       'annotations': {'bold': False,\n        'italic': False,\n        'strikethrough': False,\n        'underline': False,\n        'code': False,\n        'color': 'default'},\n       'plain_text': '李奕在哪儿｜第二季',\n       'href': None}]}},\n   'url': 'https://www.notion.so/1043b7f82e0b81599b37ed0e77b46a3e',\n   'public_url': None},\n  {'object': 'page',\n   'id': '9d1a04cb-2342-4e9f-9de4-1e0af2e88368',\n   'created_time': '2024-09-17T14:22:00.000Z',\n   'last_edited_time': '2024-09-17T14:22:00.000Z',\n   'created_by': {'object': 'user',\n    'id': '20a4298c-ff5d-4b13-9c5c-5d1b1e2a9dce'},\n   'last_edited_by': {'object': 'user',\n    'id': '20a4298c-ff5d-4b13-9c5c-5d1b1e2a9dce'},\n   'cover': None,\n   'icon': None,\n   'parent': {'type': 'database_id',\n    'database_id': '1043b7f8-2e0b-806e-9e31-dd541a1ed332'},\n   'archived': False,\n   'in_trash': False,\n   'properties': {'专栏 ID': {'id': '%3BU%7D%3D',\n     'type': 'rich_text',\n     'rich_text': [{'type': 'text',\n       'text': {'content': 'richcat', 'link': None},\n       'annotations': {'bold': False,\n        'italic': False,\n        'strikethrough': False,\n        'underline': False,\n        'code': False,\n        'color': 'default'},\n       'plain_text': 'richcat',\n       'href': None}]},\n    '介绍': {'id': '%3EzVp',\n     'type': 'rich_text',\n     'rich_text': [{'type': 'text',\n       'text': {'content': '阿猫25岁赚到100万，28岁赚到500万，在上海有车有房，分享我的财富经验，一共更新88篇，2月29号全部更新完毕。\\n\\n原价199元，早鸟价99元。（一次订阅，永久有效，无需续费）\\n\\n购买后加置顶帖微信，送你「阿猫精选的理财书籍」和「55页理财能力PPT」和小报童交流群。\\n\\n作者：公众号阿猫读书创始人，全网70万读者。',\n        'link': None},\n       'annotations': {'bold': False,\n        'italic': False,\n        'strikethrough': False,\n        'underline': False,\n        'code': False,\n        'color': 'default'},\n       'plain_text': '阿猫25岁赚到100万，28岁赚到500万，在上海有车有房，分享我的财富经验，一共更新88篇，2月29号全部更新完毕。\\n\\n原价199元，早鸟价99元。（一次订阅，永久有效，无需续费）\\n\\n购买后加置顶帖微信，送你「阿猫精选的理财书籍」和「55页理财能力PPT」和小报童交流群。\\n\\n作者：公众号阿猫读书创始人，全网70万读者。',\n       'href': None}]},\n    '图标': {'id': 'MLNP',\n     'type': 'url',\n     'url': 'https://thirdwx.qlogo.cn/mmopen/vi_32/9JoxXO9ZdzIDbe3KicQoG0zibylhdmj9hblYuSe316ef8QtzQDFO8D2o35r3T0uBibl4FAib13Fo5NkwlkWGWia6x0g/132'},\n    'URL': {'id': 'S%3DfK',\n     'type': 'url',\n     'url': 'https://xiaobot.net/p/richcat'},\n    'Files & media': {'id': 'VmIc', 'type': 'files', 'files': []},\n    '是否赞助商': {'id': '%5DuFH', 'type': 'select', 'select': None},\n    '主理人': {'id': 'f%3DCs',\n     'type': 'rich_text',\n     'rich_text': [{'type': 'text',\n       'text': {'content': '阿猫', 'link': None},\n       'annotations': {'bold': False,\n        'italic': False,\n        'strikethrough': False,\n        'underline': False,\n        'code': False,\n        'color': 'default'},\n       'plain_text': '阿猫',\n       'href': None}]},\n    '佣金比例': {'id': 'mit%5E', 'type': 'number', 'number': None},\n    '文章数': {'id': 't%3CfL', 'type': 'number', 'number': 89},\n    '内容标签': {'id': 'vypV',\n     'type': 'multi_select',\n     'multi_select': [{'id': '50ab256f-9767-486d-b914-09471f96def5',\n       'name': '投资篇',\n       'color': 'pink'},\n      {'id': 'ce831644-1ade-40e0-858d-80cd5ca82f4a',\n       'name': '赚钱篇',\n       'color': 'default'},\n      {'id': '98874762-cff1-479f-b5cb-7f833454e7e9',\n       'name': '存钱篇',\n       'color': 'default'}]},\n    '读者数': {'id': 'x%60jQ', 'type': 'number', 'number': 2244},\n    '名称': {'id': 'title',\n     'type': 'title',\n     'title': [{'type': 'text',\n       'text': {'content': '阿猫的百万财富指南', 'link': None},\n       'annotations': {'bold': False,\n        'italic': False,\n        'strikethrough': False,\n        'underline': False,\n        'code': False,\n        'color': 'default'},\n       'plain_text': '阿猫的百万财富指南',\n       'href': None}]}},\n   'url': 'https://www.notion.so/9d1a04cb23424e9f9de41e0af2e88368',\n   'public_url': None},\n  {'object': 'page',\n   'id': '1043b7f8-2e0b-817f-a4f4-c292000cc3db',\n   'created_time': '2024-09-17T14:22:00.000Z',\n   'last_edited_time': '2024-09-17T14:22:00.000Z',\n   'created_by': {'object': 'user',\n    'id': '20a4298c-ff5d-4b13-9c5c-5d1b1e2a9dce'},\n   'last_edited_by': {'object': 'user',\n    'id': '20a4298c-ff5d-4b13-9c5c-5d1b1e2a9dce'},\n   'cover': None,\n   'icon': None,\n   'parent': {'type': 'database_id',\n    'database_id': '1043b7f8-2e0b-806e-9e31-dd541a1ed332'},\n   'archived': False,\n   'in_trash': False,\n   'properties': {'专栏 ID': {'id': '%3BU%7D%3D',\n     'type': 'rich_text',\n     'rich_text': [{'type': 'text',\n       'text': {'content': 'xbt', 'link': None},\n       'annotations': {'bold': False,\n        'italic': False,\n        'strikethrough': False,\n        'underline': False,\n        'code': False,\n        'color': 'default'},\n       'plain_text': 'xbt',\n       'href': None}]},\n    '介绍': {'id': '%3EzVp',\n     'type': 'rich_text',\n     'rich_text': [{'type': 'text',\n       'text': {'content': '如果你是 IP、副业、内容付费、轻创业、私域 等，绕不开这个专栏。没订阅的，大概率会走很多弯路。\\n\\n1、由 IDO老徐 手工精选 108 个「付费专栏赚钱案例库」，总结亮点和问题，快速学习 or 精准模仿（帮你过滤了一些割韭菜的专栏）\\n2、如何做好小报童付费专栏？老徐写了 14 个维度的问题诊断。搞定 14 条，你的付费专栏大概率可成\\n3、写了十几个反面案例。你的专栏付费人太少，不满意？也许就是方面案例之一\\n\\n原价 168 ，限时最低价 19.99（一次订阅，永久可查阅）\\n** 满 5000 人订阅，涨价至 25.55\\n\\n订阅后微信 957863300 找老徐，截图支付记录，领取「资料包+定向朋友圈」',\n        'link': None},\n       'annotations': {'bold': False,\n        'italic': False,\n        'strikethrough': False,\n        'underline': False,\n        'code': False,\n        'color': 'default'},\n       'plain_text': '如果你是 IP、副业、内容付费、轻创业、私域 等，绕不开这个专栏。没订阅的，大概率会走很多弯路。\\n\\n1、由 IDO老徐 手工精选 108 个「付费专栏赚钱案例库」，总结亮点和问题，快速学习 or 精准模仿（帮你过滤了一些割韭菜的专栏）\\n2、如何做好小报童付费专栏？老徐写了 14 个维度的问题诊断。搞定 14 条，你的付费专栏大概率可成\\n3、写了十几个反面案例。你的专栏付费人太少，不满意？也许就是方面案例之一\\n\\n原价 168 ，限时最低价 19.99（一次订阅，永久可查阅）\\n** 满 5000 人订阅，涨价至 25.55\\n\\n订阅后微信 957863300 找老徐，截图支付记录，领取「资料包+定向朋友圈」',\n       'href': None}]},\n    '图标': {'id': 'MLNP',\n     'type': 'url',\n     'url': 'https://static.xiaobot.net/user-avatar/2023-11-11/7466/bbf199363c0ff3eb4ae91e92a8fca802.png'},\n    'URL': {'id': 'S%3DfK', 'type': 'url', 'url': 'https://xiaobot.net/p/xbt'},\n    'Files & media': {'id': 'VmIc', 'type': 'files', 'files': []},\n    '是否赞助商': {'id': '%5DuFH', 'type': 'select', 'select': None},\n    '主理人': {'id': 'f%3DCs',\n     'type': 'rich_text',\n     'rich_text': [{'type': 'text',\n       'text': {'content': 'IDO老徐', 'link': None},\n       'annotations': {'bold': False,\n        'italic': False,\n        'strikethrough': False,\n        'underline': False,\n        'code': False,\n        'color': 'default'},\n       'plain_text': 'IDO老徐',\n       'href': None}]},\n    '佣金比例': {'id': 'mit%5E', 'type': 'number', 'number': None},\n    '文章数': {'id': 't%3CfL', 'type': 'number', 'number': 109},\n    '内容标签': {'id': 'vypV',\n     'type': 'multi_select',\n     'multi_select': [{'id': '9b3bfb71-9802-4ecc-bf79-b962b8696bd6',\n       'name': '案例',\n       'color': 'purple'},\n      {'id': '8700f307-2b4e-49d2-a9ce-4b3d17663217',\n       'name': '基础',\n       'color': 'orange'},\n      {'id': '0a936279-1c7d-4f23-b06f-4b89b56281d5',\n       'name': '问题诊断',\n       'color': 'blue'},\n      {'id': '7b7250ac-3252-4812-83bd-5e2d74810a21',\n       'name': '反面案例',\n       'color': 'gray'},\n      {'id': 'e82780e6-c284-4f52-8c5d-f8dd53438367',\n       'name': '公告',\n       'color': 'purple'},\n      {'id': 'd70d263e-1ed1-45d0-9358-6cde5a4440a4',\n       'name': '赚钱',\n       'color': 'default'},\n      {'id': 'd27c1757-a184-47c5-8b9b-30276da69e7e',\n       'name': '数据结果',\n       'color': 'brown'},\n      {'id': 'ddf96d1d-6a81-44c2-a91b-a3a3b9f19a3e',\n       'name': '小红书',\n       'color': 'brown'},\n      {'id': 'a160c3c7-3843-4a68-b772-55335e838552',\n       'name': '动态',\n       'color': 'pink'}]},\n    '读者数': {'id': 'x%60jQ', 'type': 'number', 'number': 3741},\n    '名称': {'id': 'title',\n     'type': 'title',\n     'title': [{'type': 'text',\n       'text': {'content': '小报童商业化·赚钱案例库', 'link': None},\n       'annotations': {'bold': False,\n        'italic': False,\n        'strikethrough': False,\n        'underline': False,\n        'code': False,\n        'color': 'default'},\n       'plain_text': '小报童商业化·赚钱案例库',\n       'href': None}]}},\n   'url': 'https://www.notion.so/1043b7f82e0b817fa4f4c292000cc3db',\n   'public_url': None},\n  {'object': 'page',\n   'id': '1043b7f8-2e0b-8107-a8ac-d837aaa2f364',\n   'created_time': '2024-09-17T14:21:00.000Z',\n   'last_edited_time': '2024-09-17T14:21:00.000Z',\n   'created_by': {'object': 'user',\n    'id': '20a4298c-ff5d-4b13-9c5c-5d1b1e2a9dce'},\n   'last_edited_by': {'object': 'user',\n    'id': '20a4298c-ff5d-4b13-9c5c-5d1b1e2a9dce'},\n   'cover': None,\n   'icon': None,\n   'parent': {'type': 'database_id',\n    'database_id': '1043b7f8-2e0b-806e-9e31-dd541a1ed332'},\n   'archived': False,\n   'in_trash': False,\n   'properties': {'专栏 ID': {'id': '%3BU%7D%3D',\n     'type': 'rich_text',\n     'rich_text': [{'type': 'text',\n       'text': {'content': 'shengcaiyoushu', 'link': None},\n       'annotations': {'bold': False,\n        'italic': False,\n        'strikethrough': False,\n        'underline': False,\n        'code': False,\n        'color': 'default'},\n       'plain_text': 'shengcaiyoushu',\n       'href': None}]},\n    '介绍': {'id': '%3EzVp',\n     'type': 'rich_text',\n     'rich_text': [{'type': 'text',\n       'text': {'content': '66个赚到钱的人，分享他们已经跑通的项目。\\n\\n【重要】添加服务官鱼丸微信(yuwan831)，领取配套的10张项目步骤拆解图；\\n\\n【阅读建议】先看拆解图，定位自己擅长的领域，便于找到更适合自己的项目。\\n\\n更多权益和规则，请看置顶帖。',\n        'link': None},\n       'annotations': {'bold': False,\n        'italic': False,\n        'strikethrough': False,\n        'underline': False,\n        'code': False,\n        'color': 'default'},\n       'plain_text': '66个赚到钱的人，分享他们已经跑通的项目。\\n\\n【重要】添加服务官鱼丸微信(yuwan831)，领取配套的10张项目步骤拆解图；\\n\\n【阅读建议】先看拆解图，定位自己擅长的领域，便于找到更适合自己的项目。\\n\\n更多权益和规则，请看置顶帖。',\n       'href': None}]},\n    '图标': {'id': 'MLNP',\n     'type': 'url',\n     'url': 'https://static.xiaobot.net/user-avatar/2022-11-21/11873/d577f4b18114480dc6d867f753a15e4b.png'},\n    'URL': {'id': 'S%3DfK',\n     'type': 'url',\n     'url': 'https://xiaobot.net/p/shengcaiyoushu'},\n    'Files & media': {'id': 'VmIc', 'type': 'files', 'files': []},\n    '是否赞助商': {'id': '%5DuFH', 'type': 'select', 'select': None},\n    '主理人': {'id': 'f%3DCs',\n     'type': 'rich_text',\n     'rich_text': [{'type': 'text',\n       'text': {'content': '生财有术', 'link': None},\n       'annotations': {'bold': False,\n        'italic': False,\n        'strikethrough': False,\n        'underline': False,\n        'code': False,\n        'color': 'default'},\n       'plain_text': '生财有术',\n       'href': None}]},\n    '佣金比例': {'id': 'mit%5E', 'type': 'number', 'number': None},\n    '文章数': {'id': 't%3CfL', 'type': 'number', 'number': 71},\n    '内容标签': {'id': 'vypV',\n     'type': 'multi_select',\n     'multi_select': [{'id': '66601720-ded4-42f7-9528-6f74ed28894a',\n       'name': '电商带货',\n       'color': 'purple'},\n      {'id': '8e219c99-6a83-40c7-82a3-b70bf97cc662',\n       'name': '技能服务',\n       'color': 'yellow'},\n      {'id': 'e9ff5f1a-f920-4232-87af-80bb19361d91',\n       'name': '整理资料',\n       'color': 'orange'},\n      {'id': '60dfa119-06de-4846-881c-3bc67095339f',\n       'name': '进阶玩法',\n       'color': 'blue'},\n      {'id': '02100dcb-7c58-4a46-8fe4-d1d4c3cc3f47',\n       'name': '流量变现',\n       'color': 'red'},\n      {'id': 'd8fb6a6f-0354-44fd-9841-992b98eba096',\n       'name': '本地服务',\n       'color': 'brown'},\n      {'id': '0846c612-c883-4f4a-9751-32efab83ef05',\n       'name': '线下实体',\n       'color': 'gray'},\n      {'id': '704aaaad-87cc-4c17-8feb-e4d5c77662e5',\n       'name': '社群团购',\n       'color': 'green'},\n      {'id': 'b174cf1b-9e71-4d02-91d2-79b0be032931',\n       'name': '中介服务',\n       'color': 'default'},\n      {'id': '105b3d9a-5778-4fbf-98e5-fe639c698771',\n       'name': '工具产品',\n       'color': 'pink'}]},\n    '读者数': {'id': 'x%60jQ', 'type': 'number', 'number': 28654},\n    '名称': {'id': 'title',\n     'type': 'title',\n     'title': [{'type': 'text',\n       'text': {'content': '生财有术项目精选', 'link': None},\n       'annotations': {'bold': False,\n        'italic': False,\n        'strikethrough': False,\n        'underline': False,\n        'code': False,\n        'color': 'default'},\n       'plain_text': '生财有术项目精选',\n       'href': None}]}},\n   'url': 'https://www.notion.so/1043b7f82e0b8107a8acd837aaa2f364',\n   'public_url': None}],\n 'next_cursor': None,\n 'has_more': False,\n 'type': 'page_or_database',\n 'page_or_database': {},\n 'request_id': '57b0a9b3-3935-4e6b-84d0-4143a027c0e4'}"
     },
     "execution_count": 131,
     "metadata": {},
     "output_type": "execute_result"
    }
   ],
   "source": [
    "notion.databases.query(**{\n",
    "\t\"database_id\": NOTION_DATABASE_ID,\n",
    "    \"filter\": {\n",
    "        \n",
    "    }\n",
    "})"
   ],
   "metadata": {
    "collapsed": false,
    "ExecuteTime": {
     "end_time": "2024-09-17T14:45:15.593401Z",
     "start_time": "2024-09-17T14:45:12.625413Z"
    }
   },
   "id": "d97d9c52eb70d2d6",
   "execution_count": 131
  },
  {
   "cell_type": "code",
   "outputs": [],
   "source": [
    "def setup_driver():\n",
    "    chrome_options = Options()\n",
    "    chrome_options.add_argument(\"--headless\")  # Run in headless mode\n",
    "    service = Service(ChromeDriverManager().install())\n",
    "    return webdriver.Chrome(service=service, options=chrome_options)"
   ],
   "metadata": {
    "collapsed": false,
    "ExecuteTime": {
     "end_time": "2024-09-17T12:45:39.425135Z",
     "start_time": "2024-09-17T12:45:39.422822Z"
    }
   },
   "id": "37a65e6c3872c7b3",
   "execution_count": 112
  },
  {
   "cell_type": "code",
   "outputs": [],
   "source": [
    "url = f\"https://xiaobot.net/p/shengcaiyoushu\"\n",
    "driver = setup_driver()\n",
    "driver.get(url)"
   ],
   "metadata": {
    "collapsed": false,
    "ExecuteTime": {
     "end_time": "2024-09-17T12:45:53.588080Z",
     "start_time": "2024-09-17T12:45:39.426006Z"
    }
   },
   "id": "46e76272727f72da",
   "execution_count": 113
  },
  {
   "cell_type": "code",
   "outputs": [
    {
     "data": {
      "text/plain": "'生财有术项目精选'"
     },
     "execution_count": 114,
     "metadata": {},
     "output_type": "execute_result"
    }
   ],
   "source": [
    "driver.title"
   ],
   "metadata": {
    "collapsed": false,
    "ExecuteTime": {
     "end_time": "2024-09-17T12:45:53.605105Z",
     "start_time": "2024-09-17T12:45:53.590483Z"
    }
   },
   "id": "22d5b3d1f1d57a8e",
   "execution_count": 114
  },
  {
   "cell_type": "code",
   "outputs": [],
   "source": [
    "paper_info_elem = driver.find_element(By.CSS_SELECTOR, \".paper-info\")"
   ],
   "metadata": {
    "collapsed": false,
    "ExecuteTime": {
     "end_time": "2024-09-17T12:45:53.638472Z",
     "start_time": "2024-09-17T12:45:53.605922Z"
    }
   },
   "id": "53b9b6e2c690139c",
   "execution_count": 115
  },
  {
   "cell_type": "code",
   "outputs": [
    {
     "data": {
      "text/plain": "'28654'"
     },
     "execution_count": 116,
     "metadata": {},
     "output_type": "execute_result"
    }
   ],
   "source": [
    "reader_num_elem = paper_info_elem.find_element(By.CSS_SELECTOR, \".stats div.stat:nth-child(1) .num\")\n",
    "reader_num_elem.text"
   ],
   "metadata": {
    "collapsed": false,
    "ExecuteTime": {
     "end_time": "2024-09-17T12:45:53.758464Z",
     "start_time": "2024-09-17T12:45:53.639578Z"
    }
   },
   "id": "aded9ae47af5ca75",
   "execution_count": 116
  },
  {
   "cell_type": "code",
   "outputs": [
    {
     "data": {
      "text/plain": "'71'"
     },
     "execution_count": 117,
     "metadata": {},
     "output_type": "execute_result"
    }
   ],
   "source": [
    "article_num_elem = paper_info_elem.find_element(By.CSS_SELECTOR, \".stats div.stat:nth-child(2) .num\")\n",
    "article_num_elem.text"
   ],
   "metadata": {
    "collapsed": false,
    "ExecuteTime": {
     "end_time": "2024-09-17T12:45:53.869488Z",
     "start_time": "2024-09-17T12:45:53.759439Z"
    }
   },
   "id": "2b64db2ba147d92e",
   "execution_count": 117
  },
  {
   "cell_type": "code",
   "outputs": [
    {
     "data": {
      "text/plain": "'66个赚到钱的人，分享他们已经跑通的项目。\\n\\n【重要】添加服务官鱼丸微信(yuwan831)，领取配套的10张项目步骤拆解图；\\n\\n【阅读建议】先看拆解图，定位自己擅长的领域，便于找到更适合自己的项目。\\n\\n更多权益和规则，请看置顶帖。'"
     },
     "execution_count": 118,
     "metadata": {},
     "output_type": "execute_result"
    }
   ],
   "source": [
    "intro_elem = paper_info_elem.find_element(By.CSS_SELECTOR, \"p.intro\")\n",
    "intro_elem.text"
   ],
   "metadata": {
    "collapsed": false,
    "ExecuteTime": {
     "end_time": "2024-09-17T12:45:53.935517Z",
     "start_time": "2024-09-17T12:45:53.870593Z"
    }
   },
   "id": "a68c898b5bf5055a",
   "execution_count": 118
  },
  {
   "cell_type": "code",
   "outputs": [
    {
     "data": {
      "text/plain": "'介绍\\n内容\\n免费预览'"
     },
     "execution_count": 119,
     "metadata": {},
     "output_type": "execute_result"
    }
   ],
   "source": [
    "category_elem = driver.find_element(By.CSS_SELECTOR, \".category\")\n",
    "category_elem.text"
   ],
   "metadata": {
    "collapsed": false,
    "ExecuteTime": {
     "end_time": "2024-09-17T12:45:53.988170Z",
     "start_time": "2024-09-17T12:45:53.936335Z"
    }
   },
   "id": "dd6b52d942ddcc23",
   "execution_count": 119
  },
  {
   "cell_type": "code",
   "outputs": [],
   "source": [
    "# 如果找不到 tags, 就点击 category_elem 下的第二个元素\n",
    "if not driver.find_elements(By.CSS_SELECTOR, \"span.tag\"):\n",
    "    category_elem.find_elements(By.CSS_SELECTOR, \"div\")[1].click()"
   ],
   "metadata": {
    "collapsed": false,
    "ExecuteTime": {
     "end_time": "2024-09-17T12:45:58.908119Z",
     "start_time": "2024-09-17T12:45:53.990796Z"
    }
   },
   "id": "79fe045b6b34bbec",
   "execution_count": 120
  },
  {
   "cell_type": "code",
   "outputs": [],
   "source": [
    "# 由于 div.tags 元素的父级定义了 overflow: hidden; 这将会导致取到的 tags 列表虽然是全的，但后面有部分 tag 的内容是空的\n",
    "# 将 div.tags 元素上设置 overflow 设置为 auto 可以解决这个问题\n",
    "driver.execute_script(\"document.querySelector('.tags').style.overflow = 'auto';\")"
   ],
   "metadata": {
    "collapsed": false,
    "ExecuteTime": {
     "end_time": "2024-09-17T12:45:59.005371Z",
     "start_time": "2024-09-17T12:45:58.909040Z"
    }
   },
   "id": "1a49e7df751afce",
   "execution_count": 121
  },
  {
   "cell_type": "code",
   "outputs": [
    {
     "name": "stdout",
     "output_type": "stream",
     "text": [
      "找到 11 个 tags\n",
      "0 全部\n",
      "1 #电商带货 13\n",
      "2 #技能服务 10\n",
      "3 #整理资料 8\n",
      "4 #进阶玩法 7\n",
      "5 #流量变现 7\n",
      "6 #本地服务 7\n",
      "7 #线下实体 4\n",
      "8 #社群团购 4\n",
      "9 #中介服务 4\n",
      "10 #工具产品 2\n"
     ]
    },
    {
     "data": {
      "text/plain": "['电商带货',\n '技能服务',\n '整理资料',\n '进阶玩法',\n '流量变现',\n '本地服务',\n '线下实体',\n '社群团购',\n '中介服务',\n '工具产品']"
     },
     "execution_count": 123,
     "metadata": {},
     "output_type": "execute_result"
    }
   ],
   "source": [
    "tag_elems = driver.find_elements(By.CSS_SELECTOR, \"span.tag\")\n",
    "# 打印找到 n 个 tags\n",
    "print('找到', len(tag_elems), '个 tags')\n",
    "\n",
    "# 遍历并打印 tags, 并打印出序号\n",
    "for i, tag_elem in enumerate(tag_elems):\n",
    "    print(i, tag_elem.text)\n",
    "    \n",
    "# 遍历 tags，去掉第一个标签（全部），并将前缀 # 字符去掉，以及后面的空格与数字。\n",
    "tags = [tag.text.replace(\"#\", \"\").split(\" \")[0] for tag in tag_elems[1:]]\n",
    "tags"
   ],
   "metadata": {
    "collapsed": false,
    "ExecuteTime": {
     "end_time": "2024-09-17T12:49:34.587914Z",
     "start_time": "2024-09-17T12:49:34.203637Z"
    }
   },
   "id": "aebb698deb1a94fc",
   "execution_count": 123
  },
  {
   "cell_type": "code",
   "outputs": [
    {
     "data": {
      "text/plain": "'生财有术'"
     },
     "execution_count": 99,
     "metadata": {},
     "output_type": "execute_result"
    }
   ],
   "source": [
    "# 获取主理人信息\n",
    "host_elem = driver.find_element(By.CSS_SELECTOR, \".post .name\")\n",
    "host_elem.text"
   ],
   "metadata": {
    "collapsed": false,
    "ExecuteTime": {
     "end_time": "2024-09-17T12:40:43.494754Z",
     "start_time": "2024-09-17T12:40:43.430786Z"
    }
   },
   "id": "3927943ac5b4f08f",
   "execution_count": 99
  },
  {
   "cell_type": "code",
   "outputs": [
    {
     "data": {
      "text/plain": "'50'"
     },
     "execution_count": 66,
     "metadata": {},
     "output_type": "execute_result"
    }
   ],
   "source": [
    "# 要想获取到佣金比例数据，需要点击 div.share-paper 元素，点击后会在底部弹出一个模态对话框（div.el-overlay），里面有推广佣金比例信信息，\n",
    "share_paper_elem = driver.find_element(By.CSS_SELECTOR, \".share-paper\")\n",
    "# 先判断是否有 .el-overlay 这个元素，如果有就不点击；反之则点击。\n",
    "if not driver.find_elements(By.CSS_SELECTOR, \".el-overlay\"):\n",
    "    share_paper_elem.click()\n",
    "\n",
    "# 获取推广佣金比例信息\n",
    "commission_rate_elem = driver.find_element(By.CSS_SELECTOR, \".el-overlay .referText p span.text-theme\")\n",
    "# 去掉百分号\n",
    "commission_rate = commission_rate_elem.text.replace(\"%\", \"\")\n",
    "commission_rate"
   ],
   "metadata": {
    "collapsed": false,
    "ExecuteTime": {
     "end_time": "2024-09-17T11:21:17.379364Z",
     "start_time": "2024-09-17T11:21:17.328349Z"
    }
   },
   "id": "1cb8672bb8a8611f",
   "execution_count": 66
  },
  {
   "cell_type": "code",
   "outputs": [
    {
     "name": "stdout",
     "output_type": "stream",
     "text": [
      "生财有术项目精选\n"
     ]
    },
    {
     "data": {
      "text/plain": "'生财有术项目精选'"
     },
     "execution_count": 72,
     "metadata": {},
     "output_type": "execute_result"
    }
   ],
   "source": [
    "# 获取文章标题\n",
    "title_elem = driver.find_element(By.CSS_SELECTOR, \".paper_title h1\")\n",
    "print(title_elem.text)\n",
    "\n",
    "# 也可以直接通过页面 title 直接获取专栏标题，更简单。\n",
    "driver.title"
   ],
   "metadata": {
    "collapsed": false,
    "ExecuteTime": {
     "end_time": "2024-09-17T11:22:39.095060Z",
     "start_time": "2024-09-17T11:22:39.072024Z"
    }
   },
   "id": "54e31d4918a89838",
   "execution_count": 72
  },
  {
   "cell_type": "code",
   "outputs": [
    {
     "data": {
      "text/plain": "'https://static.xiaobot.net/user-avatar/2022-11-21/11873/d577f4b18114480dc6d867f753a15e4b.png'"
     },
     "execution_count": 74,
     "metadata": {},
     "output_type": "execute_result"
    }
   ],
   "source": [
    "# 获得 icon 链接\n",
    "icon_elem = driver.find_element(By.CSS_SELECTOR, \"img.avatar\")\n",
    "icon_elem.get_attribute(\"src\")"
   ],
   "metadata": {
    "collapsed": false,
    "ExecuteTime": {
     "end_time": "2024-09-17T11:24:09.735903Z",
     "start_time": "2024-09-17T11:24:09.706670Z"
    }
   },
   "id": "bf97030211c4cfa4",
   "execution_count": 74
  }
 ],
 "metadata": {
  "kernelspec": {
   "display_name": "Python 3",
   "language": "python",
   "name": "python3"
  },
  "language_info": {
   "codemirror_mode": {
    "name": "ipython",
    "version": 2
   },
   "file_extension": ".py",
   "mimetype": "text/x-python",
   "name": "python",
   "nbconvert_exporter": "python",
   "pygments_lexer": "ipython2",
   "version": "2.7.6"
  }
 },
 "nbformat": 4,
 "nbformat_minor": 5
}
