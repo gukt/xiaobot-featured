{
 "cells": [
  {
   "cell_type": "code",
   "execution_count": 32,
   "id": "initial_id",
   "metadata": {
    "collapsed": true,
    "ExecuteTime": {
     "end_time": "2024-09-21T09:49:03.309367Z",
     "start_time": "2024-09-21T09:49:03.306507Z"
    }
   },
   "outputs": [],
   "source": [
    "import requests\n",
    "import time"
   ]
  },
  {
   "cell_type": "code",
   "outputs": [],
   "source": [
    "import hashlib\n",
    "from collections import OrderedDict"
   ],
   "metadata": {
    "collapsed": false,
    "ExecuteTime": {
     "end_time": "2024-09-21T09:49:03.313537Z",
     "start_time": "2024-09-21T09:49:03.311048Z"
    }
   },
   "id": "f9553167ce0dd280",
   "execution_count": 33
  },
  {
   "cell_type": "code",
   "outputs": [
    {
     "name": "stdout",
     "output_type": "stream",
     "text": [
      "sign: 5eacca9aa32657dac99099c5d45cdc20\n",
      "timestamp: 1726916462\n"
     ]
    }
   ],
   "source": [
    "def md5_hash(t: str, e: str = 'hex') -> str:\n",
    "    md5 = hashlib.md5()\n",
    "    md5.update(t.encode('utf-8'))\n",
    "    if e == 'hex':\n",
    "        return md5.hexdigest()\n",
    "    elif e == 'binary':\n",
    "        return md5.digest()\n",
    "    else:\n",
    "        raise ValueError(\"Unsupported hash format. Use 'hex' or 'binary'.\")\n",
    "\n",
    "def get_sign(query: dict, t: int) -> str:\n",
    "    # Sort the dictionary by keys\n",
    "    sorted_query = OrderedDict(sorted(query.items()))\n",
    "    \n",
    "    # Create the query string\n",
    "    query_string = \"&\".join([f\"{k}={v}\" for k, v in sorted_query.items() if v is not None])\n",
    "    \n",
    "    # Append the secret key and timestamp\n",
    "    secret_key = \"dbbc1dd37360b4084c3a69346e0ce2b2\"\n",
    "    sign_string = f\"{query_string}{secret_key}.{t}\"\n",
    "    \n",
    "    # Generate and return the hash\n",
    "    return md5_hash(sign_string)\n",
    "\n",
    "query = {\n",
    "    \"refer_channel\": ''\n",
    "}\n",
    "timestamp = int(time.time())\n",
    "sign = get_sign(query, timestamp)\n",
    "print(f\"sign: {sign}\")\n",
    "print(f\"timestamp: {timestamp}\")"
   ],
   "metadata": {
    "collapsed": false,
    "ExecuteTime": {
     "end_time": "2024-09-21T11:02:31.952501Z",
     "start_time": "2024-09-21T11:01:02.679342Z"
    }
   },
   "id": "7c8482896dc941ef",
   "execution_count": 41
  },
  {
   "cell_type": "code",
   "outputs": [
    {
     "name": "stdout",
     "output_type": "stream",
     "text": [
      "headers {'sign': '0a1bbf111c18f660cdd37f8da6d8949f', 'timestamp': '1726916341', 'api-key': 'xiaobot_web', 'app-version': '0.1'}\n"
     ]
    },
    {
     "data": {
      "text/plain": "{'code': 200,\n 'data': {'slug': 'pmthinking2022',\n  'name': '产品沉思录 | 第六季（完结）',\n  'intro': '产品沉思录™ 是一个关于产品的知识库，也是一个 Newsletter （邮件组），始于 2017 年，累计发布近 200+ 期，涵盖几十个人物/产品/公司专题研究，累计近百万字内容。\\n\\n除了点击下方「介绍」外，你还可以浏览\\n- 免费精选集：https://pmthinking.com\\n- 本年度目录：https://xiaobot.net/post/27ade9d2-bf1c-41b1-b9ff-3bc1b4966e7a\\n\\n本年度内容已经连载完毕，如需最近一季内容，请移步：https://xiaobot.net/p/pmthinking2023\\n\\n人们会被自己热爱的事物改变，而没有人因为给予而贫穷。',\n  'type': 'BOOKLET',\n  'subscriber_count': 4839,\n  'post_count': 52,\n  'free_post_count': 5,\n  'latest_post_uuid': '3922ffdc-419c-4197-b03a-745ed71b54e1',\n  'commentable': 1,\n  'copyable': 1,\n  'refer_ratio': 0.5,\n  'created_at': '2022-11-15T06:28:23.000000Z',\n  'deleted_at': None,\n  'avatar_url': 'https://static.xiaobot.net/paper/2022-12-31/5/76e64a7a4daa5b97e5643aef08e7e35f.jpeg',\n  'creator': {'uuid': '16c19fee-8fe1-4e97-9f2b-3db3da9b88f8',\n   'nickname': 'shaonan × fonter',\n   'full_avatar_url': 'https://thirdwx.qlogo.cn/mmopen/vi_32/GyAPksJzyZDBKRTuKbGU5W6ia0Lrib3f9dtZ4iaHPcbnDqgPkWhgZ9SaMDSn9PsBjicZaPfSVVEmGasWzsF2LebmkA/132'},\n  'prices': [{'type': 901, 'price': 19900, 'name': '终身', 'days': 73000}]}}"
     },
     "execution_count": 40,
     "metadata": {},
     "output_type": "execute_result"
    }
   ],
   "source": [
    "ts = str(int(time.time()))\n",
    "url = 'https://api.xiaobot.net/paper/pmthinking2022?refer_channel='\n",
    "headers = {\n",
    "    'sign': get_sign(query, timestamp),\n",
    "    'timestamp':  str(timestamp),\n",
    "    'api-key': 'xiaobot_web',\n",
    "    'app-version': '0.1',\n",
    "}\n",
    "print('headers', headers)\n",
    "r = requests.get(url, headers=headers)\n",
    "r.json()"
   ],
   "metadata": {
    "collapsed": false,
    "ExecuteTime": {
     "end_time": "2024-09-21T11:00:53.650524Z",
     "start_time": "2024-09-21T11:00:41.987950Z"
    }
   },
   "id": "5c0e0fd23f7c8ede",
   "execution_count": 40
  },
  {
   "cell_type": "code",
   "outputs": [],
   "source": [],
   "metadata": {
    "collapsed": false
   },
   "id": "35f2e067acd65999"
  }
 ],
 "metadata": {
  "kernelspec": {
   "display_name": "Python 3",
   "language": "python",
   "name": "python3"
  },
  "language_info": {
   "codemirror_mode": {
    "name": "ipython",
    "version": 2
   },
   "file_extension": ".py",
   "mimetype": "text/x-python",
   "name": "python",
   "nbconvert_exporter": "python",
   "pygments_lexer": "ipython2",
   "version": "2.7.6"
  }
 },
 "nbformat": 4,
 "nbformat_minor": 5
}
